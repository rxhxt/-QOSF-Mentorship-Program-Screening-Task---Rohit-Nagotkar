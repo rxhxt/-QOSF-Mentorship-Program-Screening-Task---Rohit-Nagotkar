{
  "nbformat": 4,
  "nbformat_minor": 0,
  "metadata": {
    "colab": {
      "name": "qosf_screening_task_1.ipynb",
      "provenance": [],
      "collapsed_sections": []
    },
    "kernelspec": {
      "name": "python3",
      "display_name": "Python 3"
    }
  },
  "cells": [
    {
      "cell_type": "markdown",
      "metadata": {
        "id": "2GWWdJfsRZLs",
        "colab_type": "text"
      },
      "source": [
        "# TASK 1\n",
        "\n",
        "I am Rohit Nagotkar and this is my implementation of QOSF screening task 1\n",
        "\n",
        "## Objectives\n",
        "\n",
        "*   Implement a Quantum circuit of L layers with two main blocks 'odd' and 'even'.\n",
        "*  Rx is used in odd block and even block consists of Rz and Cz gates.\n",
        "*  We have to calculate the minimum value of the distance between Ψ(θ)(which is obtained from the circuit) and Φ (which is a random vector of 4 qubits), with a certain combination of \"theta(θ)\" parameters.\n",
        "*  We have to analyze how the number of layers affects the minimum distance.\n",
        "\n",
        "\n"
      ]
    },
    {
      "cell_type": "markdown",
      "metadata": {
        "id": "nf_lmP0RW117",
        "colab_type": "text"
      },
      "source": [
        "# Installing Dependencies"
      ]
    },
    {
      "cell_type": "code",
      "metadata": {
        "id": "pRmCnI2XgwLr",
        "colab_type": "code",
        "colab": {
          "base_uri": "https://localhost:8080/",
          "height": 547
        },
        "outputId": "b6116326-1dbe-4595-c5ae-5b84412c3e94"
      },
      "source": [
        "!pip install qiskit -q --upgrade\n",
        "\n",
        "import qiskit.tools.jupyter\n",
        "%qiskit_version_table\n",
        "%qiskit_copyright"
      ],
      "execution_count": 1,
      "outputs": [
        {
          "output_type": "display_data",
          "data": {
            "text/html": [
              "<h3>Version Information</h3><table><tr><th>Qiskit Software</th><th>Version</th></tr><tr><td>Qiskit</td><td>0.20.1</td></tr><tr><td>Terra</td><td>0.15.2</td></tr><tr><td>Aer</td><td>0.6.1</td></tr><tr><td>Ignis</td><td>0.4.0</td></tr><tr><td>Aqua</td><td>0.7.5</td></tr><tr><td>IBM Q Provider</td><td>0.8.0</td></tr><tr><th>System information</th></tr><tr><td>Python</td><td>3.6.9 (default, Jul 17 2020, 12:50:27) \n",
              "[GCC 8.4.0]</td></tr><tr><td>OS</td><td>Linux</td></tr><tr><td>CPUs</td><td>1</td></tr><tr><td>Memory (Gb)</td><td>12.715850830078125</td></tr><tr><td colspan='2'>Wed Sep 16 05:33:00 2020 UTC</td></tr></table>"
            ],
            "text/plain": [
              "<IPython.core.display.HTML object>"
            ]
          },
          "metadata": {
            "tags": []
          }
        },
        {
          "output_type": "display_data",
          "data": {
            "text/html": [
              "<div style='width: 100%; background-color:#d5d9e0;padding-left: 10px; padding-bottom: 10px; padding-right: 10px; padding-top: 5px'><h3>This code is a part of Qiskit</h3><p>&copy; Copyright IBM 2017, 2020.</p><p>This code is licensed under the Apache License, Version 2.0. You may<br>obtain a copy of this license in the LICENSE.txt file in the root directory<br> of this source tree or at http://www.apache.org/licenses/LICENSE-2.0.<p>Any modifications or derivative works of this code must retain this<br>copyright notice, and modified files need to carry a notice indicating<br>that they have been altered from the originals.</p></div>"
            ],
            "text/plain": [
              "<IPython.core.display.HTML object>"
            ]
          },
          "metadata": {
            "tags": []
          }
        }
      ]
    },
    {
      "cell_type": "code",
      "metadata": {
        "id": "sB0VKLRWbDDi",
        "colab_type": "code",
        "colab": {
          "base_uri": "https://localhost:8080/",
          "height": 199
        },
        "outputId": "e77252a0-414d-49d0-c701-a3e471746eeb"
      },
      "source": [
        "!pip install pennylane --upgrade"
      ],
      "execution_count": 2,
      "outputs": [
        {
          "output_type": "stream",
          "text": [
            "Requirement already up-to-date: pennylane in /usr/local/lib/python3.6/dist-packages (0.11.0)\n",
            "Requirement already satisfied, skipping upgrade: networkx in /usr/local/lib/python3.6/dist-packages (from pennylane) (2.5)\n",
            "Requirement already satisfied, skipping upgrade: autograd in /usr/local/lib/python3.6/dist-packages (from pennylane) (1.3)\n",
            "Requirement already satisfied, skipping upgrade: scipy in /usr/local/lib/python3.6/dist-packages (from pennylane) (1.4.1)\n",
            "Requirement already satisfied, skipping upgrade: numpy in /usr/local/lib/python3.6/dist-packages (from pennylane) (1.18.5)\n",
            "Requirement already satisfied, skipping upgrade: semantic-version==2.6 in /usr/local/lib/python3.6/dist-packages (from pennylane) (2.6.0)\n",
            "Requirement already satisfied, skipping upgrade: appdirs in /usr/local/lib/python3.6/dist-packages (from pennylane) (1.4.4)\n",
            "Requirement already satisfied, skipping upgrade: toml in /usr/local/lib/python3.6/dist-packages (from pennylane) (0.10.1)\n",
            "Requirement already satisfied, skipping upgrade: decorator>=4.3.0 in /usr/local/lib/python3.6/dist-packages (from networkx->pennylane) (4.4.2)\n",
            "Requirement already satisfied, skipping upgrade: future>=0.15.2 in /usr/local/lib/python3.6/dist-packages (from autograd->pennylane) (0.16.0)\n"
          ],
          "name": "stdout"
        }
      ]
    },
    {
      "cell_type": "code",
      "metadata": {
        "id": "TlL9ZI9ya6ft",
        "colab_type": "code",
        "colab": {
          "base_uri": "https://localhost:8080/",
          "height": 1000
        },
        "outputId": "81f948fe-7f60-4b78-933b-23eef8c825a6"
      },
      "source": [
        "!pip install pennylane-qiskit"
      ],
      "execution_count": 3,
      "outputs": [
        {
          "output_type": "stream",
          "text": [
            "Requirement already satisfied: pennylane-qiskit in /usr/local/lib/python3.6/dist-packages (0.11.0)\n",
            "Requirement already satisfied: pyscf<=1.7.2 in /usr/local/lib/python3.6/dist-packages (from pennylane-qiskit) (1.7.2)\n",
            "Requirement already satisfied: numpy in /usr/local/lib/python3.6/dist-packages (from pennylane-qiskit) (1.18.5)\n",
            "Requirement already satisfied: qiskit>=0.20 in /usr/local/lib/python3.6/dist-packages (from pennylane-qiskit) (0.20.1)\n",
            "Requirement already satisfied: networkx>=2.2; python_version > \"3.5\" in /usr/local/lib/python3.6/dist-packages (from pennylane-qiskit) (2.5)\n",
            "Requirement already satisfied: pennylane>=0.11.0 in /usr/local/lib/python3.6/dist-packages (from pennylane-qiskit) (0.11.0)\n",
            "Requirement already satisfied: h5py in /usr/local/lib/python3.6/dist-packages (from pyscf<=1.7.2->pennylane-qiskit) (2.10.0)\n",
            "Requirement already satisfied: scipy in /usr/local/lib/python3.6/dist-packages (from pyscf<=1.7.2->pennylane-qiskit) (1.4.1)\n",
            "Requirement already satisfied: qiskit-terra==0.15.2 in /usr/local/lib/python3.6/dist-packages (from qiskit>=0.20->pennylane-qiskit) (0.15.2)\n",
            "Requirement already satisfied: qiskit-aqua==0.7.5 in /usr/local/lib/python3.6/dist-packages (from qiskit>=0.20->pennylane-qiskit) (0.7.5)\n",
            "Requirement already satisfied: qiskit-ignis==0.4.0 in /usr/local/lib/python3.6/dist-packages (from qiskit>=0.20->pennylane-qiskit) (0.4.0)\n",
            "Requirement already satisfied: qiskit-aer==0.6.1 in /usr/local/lib/python3.6/dist-packages (from qiskit>=0.20->pennylane-qiskit) (0.6.1)\n",
            "Requirement already satisfied: qiskit-ibmq-provider==0.8.0 in /usr/local/lib/python3.6/dist-packages (from qiskit>=0.20->pennylane-qiskit) (0.8.0)\n",
            "Requirement already satisfied: decorator>=4.3.0 in /usr/local/lib/python3.6/dist-packages (from networkx>=2.2; python_version > \"3.5\"->pennylane-qiskit) (4.4.2)\n",
            "Requirement already satisfied: appdirs in /usr/local/lib/python3.6/dist-packages (from pennylane>=0.11.0->pennylane-qiskit) (1.4.4)\n",
            "Requirement already satisfied: autograd in /usr/local/lib/python3.6/dist-packages (from pennylane>=0.11.0->pennylane-qiskit) (1.3)\n",
            "Requirement already satisfied: toml in /usr/local/lib/python3.6/dist-packages (from pennylane>=0.11.0->pennylane-qiskit) (0.10.1)\n",
            "Requirement already satisfied: semantic-version==2.6 in /usr/local/lib/python3.6/dist-packages (from pennylane>=0.11.0->pennylane-qiskit) (2.6.0)\n",
            "Requirement already satisfied: six in /usr/local/lib/python3.6/dist-packages (from h5py->pyscf<=1.7.2->pennylane-qiskit) (1.15.0)\n",
            "Requirement already satisfied: contextvars>=2.4; python_version < \"3.7\" in /usr/local/lib/python3.6/dist-packages (from qiskit-terra==0.15.2->qiskit>=0.20->pennylane-qiskit) (2.4)\n",
            "Requirement already satisfied: dill>=0.3 in /usr/local/lib/python3.6/dist-packages (from qiskit-terra==0.15.2->qiskit>=0.20->pennylane-qiskit) (0.3.2)\n",
            "Requirement already satisfied: python-dateutil>=2.8.0 in /usr/local/lib/python3.6/dist-packages (from qiskit-terra==0.15.2->qiskit>=0.20->pennylane-qiskit) (2.8.1)\n",
            "Requirement already satisfied: jsonschema>=2.6 in /usr/local/lib/python3.6/dist-packages (from qiskit-terra==0.15.2->qiskit>=0.20->pennylane-qiskit) (2.6.0)\n",
            "Requirement already satisfied: retworkx>=0.4.0 in /usr/local/lib/python3.6/dist-packages (from qiskit-terra==0.15.2->qiskit>=0.20->pennylane-qiskit) (0.4.0)\n",
            "Requirement already satisfied: fastjsonschema>=2.10 in /usr/local/lib/python3.6/dist-packages (from qiskit-terra==0.15.2->qiskit>=0.20->pennylane-qiskit) (2.14.5)\n",
            "Requirement already satisfied: sympy>=1.3 in /usr/local/lib/python3.6/dist-packages (from qiskit-terra==0.15.2->qiskit>=0.20->pennylane-qiskit) (1.6.2)\n",
            "Requirement already satisfied: python-constraint>=1.4 in /usr/local/lib/python3.6/dist-packages (from qiskit-terra==0.15.2->qiskit>=0.20->pennylane-qiskit) (1.4.0)\n",
            "Requirement already satisfied: ply>=3.10 in /usr/local/lib/python3.6/dist-packages (from qiskit-terra==0.15.2->qiskit>=0.20->pennylane-qiskit) (3.11)\n",
            "Requirement already satisfied: psutil>=5 in /usr/local/lib/python3.6/dist-packages (from qiskit-terra==0.15.2->qiskit>=0.20->pennylane-qiskit) (5.4.8)\n",
            "Requirement already satisfied: docplex in /usr/local/lib/python3.6/dist-packages (from qiskit-aqua==0.7.5->qiskit>=0.20->pennylane-qiskit) (2.15.194)\n",
            "Requirement already satisfied: dlx in /usr/local/lib/python3.6/dist-packages (from qiskit-aqua==0.7.5->qiskit>=0.20->pennylane-qiskit) (1.0.4)\n",
            "Requirement already satisfied: yfinance in /usr/local/lib/python3.6/dist-packages (from qiskit-aqua==0.7.5->qiskit>=0.20->pennylane-qiskit) (0.1.54)\n",
            "Requirement already satisfied: pandas in /usr/local/lib/python3.6/dist-packages (from qiskit-aqua==0.7.5->qiskit>=0.20->pennylane-qiskit) (1.0.5)\n",
            "Requirement already satisfied: quandl in /usr/local/lib/python3.6/dist-packages (from qiskit-aqua==0.7.5->qiskit>=0.20->pennylane-qiskit) (3.5.2)\n",
            "Requirement already satisfied: setuptools>=40.1.0 in /usr/local/lib/python3.6/dist-packages (from qiskit-aqua==0.7.5->qiskit>=0.20->pennylane-qiskit) (50.3.0)\n",
            "Requirement already satisfied: fastdtw in /usr/local/lib/python3.6/dist-packages (from qiskit-aqua==0.7.5->qiskit>=0.20->pennylane-qiskit) (0.3.4)\n",
            "Requirement already satisfied: scikit-learn>=0.20.0 in /usr/local/lib/python3.6/dist-packages (from qiskit-aqua==0.7.5->qiskit>=0.20->pennylane-qiskit) (0.22.2.post1)\n",
            "Requirement already satisfied: cython>=0.27.1 in /usr/local/lib/python3.6/dist-packages (from qiskit-aer==0.6.1->qiskit>=0.20->pennylane-qiskit) (0.29.21)\n",
            "Requirement already satisfied: pybind11>=2.4 in /usr/local/lib/python3.6/dist-packages (from qiskit-aer==0.6.1->qiskit>=0.20->pennylane-qiskit) (2.5.0)\n",
            "Requirement already satisfied: websockets<8,>=7; python_version <= \"3.6\" in /usr/local/lib/python3.6/dist-packages (from qiskit-ibmq-provider==0.8.0->qiskit>=0.20->pennylane-qiskit) (7.0)\n",
            "Requirement already satisfied: requests-ntlm>=1.1.0 in /usr/local/lib/python3.6/dist-packages (from qiskit-ibmq-provider==0.8.0->qiskit>=0.20->pennylane-qiskit) (1.1.0)\n",
            "Requirement already satisfied: requests>=2.19 in /usr/local/lib/python3.6/dist-packages (from qiskit-ibmq-provider==0.8.0->qiskit>=0.20->pennylane-qiskit) (2.23.0)\n",
            "Requirement already satisfied: urllib3>=1.21.1 in /usr/local/lib/python3.6/dist-packages (from qiskit-ibmq-provider==0.8.0->qiskit>=0.20->pennylane-qiskit) (1.24.3)\n",
            "Requirement already satisfied: nest-asyncio!=1.1.0,>=1.0.0 in /usr/local/lib/python3.6/dist-packages (from qiskit-ibmq-provider==0.8.0->qiskit>=0.20->pennylane-qiskit) (1.4.0)\n",
            "Requirement already satisfied: future>=0.15.2 in /usr/local/lib/python3.6/dist-packages (from autograd->pennylane>=0.11.0->pennylane-qiskit) (0.16.0)\n",
            "Requirement already satisfied: immutables>=0.9 in /usr/local/lib/python3.6/dist-packages (from contextvars>=2.4; python_version < \"3.7\"->qiskit-terra==0.15.2->qiskit>=0.20->pennylane-qiskit) (0.14)\n",
            "Requirement already satisfied: mpmath>=0.19 in /usr/local/lib/python3.6/dist-packages (from sympy>=1.3->qiskit-terra==0.15.2->qiskit>=0.20->pennylane-qiskit) (1.1.0)\n",
            "Requirement already satisfied: multitasking>=0.0.7 in /usr/local/lib/python3.6/dist-packages (from yfinance->qiskit-aqua==0.7.5->qiskit>=0.20->pennylane-qiskit) (0.0.9)\n",
            "Requirement already satisfied: pytz>=2017.2 in /usr/local/lib/python3.6/dist-packages (from pandas->qiskit-aqua==0.7.5->qiskit>=0.20->pennylane-qiskit) (2018.9)\n",
            "Requirement already satisfied: more-itertools in /usr/local/lib/python3.6/dist-packages (from quandl->qiskit-aqua==0.7.5->qiskit>=0.20->pennylane-qiskit) (8.5.0)\n",
            "Requirement already satisfied: inflection>=0.3.1 in /usr/local/lib/python3.6/dist-packages (from quandl->qiskit-aqua==0.7.5->qiskit>=0.20->pennylane-qiskit) (0.5.1)\n",
            "Requirement already satisfied: joblib>=0.11 in /usr/local/lib/python3.6/dist-packages (from scikit-learn>=0.20.0->qiskit-aqua==0.7.5->qiskit>=0.20->pennylane-qiskit) (0.16.0)\n",
            "Requirement already satisfied: cryptography>=1.3 in /usr/local/lib/python3.6/dist-packages (from requests-ntlm>=1.1.0->qiskit-ibmq-provider==0.8.0->qiskit>=0.20->pennylane-qiskit) (3.1)\n",
            "Requirement already satisfied: ntlm-auth>=1.0.2 in /usr/local/lib/python3.6/dist-packages (from requests-ntlm>=1.1.0->qiskit-ibmq-provider==0.8.0->qiskit>=0.20->pennylane-qiskit) (1.5.0)\n",
            "Requirement already satisfied: certifi>=2017.4.17 in /usr/local/lib/python3.6/dist-packages (from requests>=2.19->qiskit-ibmq-provider==0.8.0->qiskit>=0.20->pennylane-qiskit) (2020.6.20)\n",
            "Requirement already satisfied: chardet<4,>=3.0.2 in /usr/local/lib/python3.6/dist-packages (from requests>=2.19->qiskit-ibmq-provider==0.8.0->qiskit>=0.20->pennylane-qiskit) (3.0.4)\n",
            "Requirement already satisfied: idna<3,>=2.5 in /usr/local/lib/python3.6/dist-packages (from requests>=2.19->qiskit-ibmq-provider==0.8.0->qiskit>=0.20->pennylane-qiskit) (2.10)\n",
            "Requirement already satisfied: cffi!=1.11.3,>=1.8 in /usr/local/lib/python3.6/dist-packages (from cryptography>=1.3->requests-ntlm>=1.1.0->qiskit-ibmq-provider==0.8.0->qiskit>=0.20->pennylane-qiskit) (1.14.2)\n",
            "Requirement already satisfied: pycparser in /usr/local/lib/python3.6/dist-packages (from cffi!=1.11.3,>=1.8->cryptography>=1.3->requests-ntlm>=1.1.0->qiskit-ibmq-provider==0.8.0->qiskit>=0.20->pennylane-qiskit) (2.20)\n"
          ],
          "name": "stdout"
        }
      ]
    },
    {
      "cell_type": "code",
      "metadata": {
        "id": "5u0aeEXPbVoH",
        "colab_type": "code",
        "colab": {}
      },
      "source": [
        "!pip install autograd tensorflow>=1.13.2"
      ],
      "execution_count": 4,
      "outputs": []
    },
    {
      "cell_type": "markdown",
      "metadata": {
        "id": "s5Lj19KaXAqm",
        "colab_type": "text"
      },
      "source": [
        "# Importing Libraries"
      ]
    },
    {
      "cell_type": "code",
      "metadata": {
        "id": "Q5UayFKrbbAL",
        "colab_type": "code",
        "colab": {
          "base_uri": "https://localhost:8080/",
          "height": 454
        },
        "outputId": "e7b81c16-4c7c-469a-f0a7-053c61049366"
      },
      "source": [
        "import pennylane as qml\n",
        "from math import sqrt\n",
        "from pennylane import numpy as np\n",
        "qml.about()"
      ],
      "execution_count": 5,
      "outputs": [
        {
          "output_type": "stream",
          "text": [
            "Name: PennyLane\n",
            "Version: 0.11.0\n",
            "Summary: PennyLane is a Python quantum machine learning library by Xanadu Inc.\n",
            "Home-page: https://github.com/XanaduAI/pennylane\n",
            "Author: None\n",
            "Author-email: None\n",
            "License: Apache License 2.0\n",
            "Location: /usr/local/lib/python3.6/dist-packages\n",
            "Requires: semantic-version, networkx, autograd, scipy, toml, numpy, appdirs\n",
            "Required-by: PennyLane-qiskit\n",
            "Platform info:           Linux-4.19.112+-x86_64-with-Ubuntu-18.04-bionic\n",
            "Python version:          3.6.9\n",
            "Numpy version:           1.18.5\n",
            "Scipy version:           1.4.1\n",
            "Installed devices:\n",
            "- default.gaussian (PennyLane-0.11.0)\n",
            "- default.qubit (PennyLane-0.11.0)\n",
            "- default.qubit.autograd (PennyLane-0.11.0)\n",
            "- default.qubit.tf (PennyLane-0.11.0)\n",
            "- default.tensor (PennyLane-0.11.0)\n",
            "- default.tensor.tf (PennyLane-0.11.0)\n",
            "- qiskit.aer (PennyLane-qiskit-0.11.0)\n",
            "- qiskit.basicaer (PennyLane-qiskit-0.11.0)\n",
            "- qiskit.ibmq (PennyLane-qiskit-0.11.0)\n"
          ],
          "name": "stdout"
        }
      ]
    },
    {
      "cell_type": "code",
      "metadata": {
        "id": "cB6GEYnZNALL",
        "colab_type": "code",
        "colab": {}
      },
      "source": [
        "import qiskit\n",
        "from qiskit import QuantumCircuit, execute, Aer\n",
        "import math\n",
        "from qiskit.visualization import plot_histogram,plot_bloch_multivector\n",
        "import numpy as np_c\n",
        "import random"
      ],
      "execution_count": 6,
      "outputs": []
    },
    {
      "cell_type": "markdown",
      "metadata": {
        "id": "UQ6O5JgEacRE",
        "colab_type": "text"
      },
      "source": [
        "#Global Variable"
      ]
    },
    {
      "cell_type": "code",
      "metadata": {
        "id": "K1XSgGkSSegN",
        "colab_type": "code",
        "colab": {}
      },
      "source": [
        "theta_vec = []\n"
      ],
      "execution_count": 7,
      "outputs": []
    },
    {
      "cell_type": "markdown",
      "metadata": {
        "id": "6exU7e72AsCe",
        "colab_type": "text"
      },
      "source": [
        "#Generate Φ vector"
      ]
    },
    {
      "cell_type": "code",
      "metadata": {
        "id": "logHxf7fBTOE",
        "colab_type": "code",
        "colab": {
          "base_uri": "https://localhost:8080/",
          "height": 768
        },
        "outputId": "9b9413d0-a4d8-4169-a5eb-2f8cee695556"
      },
      "source": [
        "qc2 = QuantumCircuit(4)\n",
        "\n",
        "t = np_c.random.rand()\n",
        "qc2.initialize([t,sqrt(1-(t**2))],0)\n",
        "\n",
        "t = np_c.random.rand()\n",
        "qc2.initialize([t,sqrt(1-(t**2))],1)\n",
        "t = np_c.random.rand()\n",
        "qc2.initialize([t,sqrt(1-(t**2))],2)\n",
        "t = np_c.random.rand()\n",
        "qc2.initialize([t,sqrt(1-(t**2))],3)\n",
        "qc2.draw()\n",
        "# qc2.measure([0,1,2,3],[0,1,2,3])\n",
        "simulator = Aer.get_backend('statevector_simulator')\n",
        "job = execute(qc2, simulator)\n",
        "result2 = job.result()\n",
        "counts = result2.get_counts(qc2)\n",
        "out_state = result2.get_statevector()\n",
        "print(out_state)\n",
        "plot_histogram(counts)"
      ],
      "execution_count": 8,
      "outputs": [
        {
          "output_type": "stream",
          "text": [
            "Pass: UnrollCustomDefinitions - 0.02050 (ms)\n",
            "Begin BasisTranslator from source basis {('initialize', 1)} to target basis {'z', 'h', 'cz', 'u3', 'cu2', 'mcx', 'ccx', 'u2', 'y', 'id', 'barrier', 'snapshot', 'cu1', 'u1', 'sdg', 'mcu3', 'cu3', 'mcu2', 't', 'mcswap', 'initialize', 'unitary', 'diagonal', 'mcz', 'mcy', 'tdg', 'mcu1', 'multiplexer', 's', 'swap', 'measure', 'reset', 'cswap', 'cx', 'x'}.\n",
            "Basis translation path search completed in 0.000s.\n",
            "Basis translation paths composed in 0.000s.\n",
            "Basis translation instructions replaced in 0.000s.\n",
            "Pass: BasisTranslator - 10.95390 (ms)\n",
            "Pass: RemoveResetInZeroState - 0.04601 (ms)\n",
            "Pass: Depth - 0.05507 (ms)\n",
            "Pass: FixedPoint - 0.03171 (ms)\n",
            "Pass: Optimize1qGates - 0.08488 (ms)\n",
            "Pass: CXCancellation - 0.05126 (ms)\n",
            "Pass: Depth - 0.03648 (ms)\n",
            "Pass: FixedPoint - 0.02432 (ms)\n",
            "Pass: Optimize1qGates - 0.07653 (ms)\n",
            "Pass: CXCancellation - 0.05269 (ms)\n",
            "Total Transpile Time - 113.64865 (ms)\n",
            "Total Assembly Time - 0.11659 (ms)\n",
            "Total Job Submission Time - 0.51212 (ms)\n",
            "[0.08222708+0.j 0.00370628+0.j 0.04327578+0.j 0.0019506 +0.j\n",
            " 0.28177361+0.j 0.0127006 +0.j 0.14829633+0.j 0.00668428+0.j\n",
            " 0.23359788+0.j 0.01052914+0.j 0.12294163+0.j 0.00554144+0.j\n",
            " 0.80048714+0.j 0.03608098+0.j 0.42129319+0.j 0.01898927+0.j]\n"
          ],
          "name": "stdout"
        },
        {
          "output_type": "execute_result",
          "data": {
            "image/png": "[encoded data removed]",
            "text/plain": [
              "<Figure size 504x360 with 1 Axes>"
            ]
          },
          "metadata": {
            "tags": []
          },
          "execution_count": 8
        }
      ]
    },
    {
      "cell_type": "markdown",
      "metadata": {
        "id": "aXn5PfE3ag37",
        "colab_type": "text"
      },
      "source": [
        "# Get list of theta values for every block\n"
      ]
    },
    {
      "cell_type": "code",
      "metadata": {
        "id": "4J9SnVqha7nH",
        "colab_type": "code",
        "colab": {}
      },
      "source": [
        "\n",
        "def get_theta(size=4):\n",
        "  return [round(random.uniform(0,2*np_c.pi),6) for i in range(size)]\n",
        "   "
      ],
      "execution_count": 10,
      "outputs": []
    },
    {
      "cell_type": "markdown",
      "metadata": {
        "id": "oT2QLXOxbX9v",
        "colab_type": "text"
      },
      "source": [
        "# Main Circuit Builder funcutons"
      ]
    },
    {
      "cell_type": "code",
      "metadata": {
        "id": "QpOm7lq5SuiH",
        "colab_type": "code",
        "colab": {}
      },
      "source": [
        "global Lg\n",
        "def set_L(l):\n",
        "  global Lg\n",
        "  Lg = l\n",
        "  # print(Lg)\n",
        "dev1 = qml.device(\"default.qubit\", wires=4)\n",
        "@qml.qnode(dev1)\n",
        "def circuit(params):\n",
        "  global Lg\n",
        "  for j in range(Lg):\n",
        "    for i in range(4):\n",
        "      qml.RX(params[i+(j*8)],wires = i)\n",
        "    for i in range(4):\n",
        "      qml.RZ(params[i+4+(j*8)],wires = i)\n",
        "    qml.CZ(wires = [0,1])\n",
        "    qml.CZ(wires = [0,2])\n",
        "    qml.CZ(wires = [0,3])\n",
        "    qml.CZ(wires = [1,2])\n",
        "    qml.CZ(wires = [1,3])\n",
        "    qml.CZ(wires = [2,3])\n",
        "    \n",
        "  return qml.expval(qml.PauliZ(0)),qml.expval(qml.PauliZ(1)),qml.expval(qml.PauliZ(2)),qml.expval(qml.PauliZ(3))\n"
      ],
      "execution_count": 12,
      "outputs": []
    },
    {
      "cell_type": "markdown",
      "metadata": {
        "id": "wWc-MNIIbyJb",
        "colab_type": "text"
      },
      "source": [
        "# Input No. of layers and build circuits from 1-L"
      ]
    },
    {
      "cell_type": "code",
      "metadata": {
        "id": "nCDpRkgkNt6s",
        "colab_type": "code",
        "colab": {
          "base_uri": "https://localhost:8080/",
          "height": 54
        },
        "outputId": "7d4ce1e7-2b8d-4e7e-e3d9-6029da9d4256"
      },
      "source": [
        "L = int(input(\"enter number of layers > \"))\n",
        "exp_list = []\n",
        "temp = L\n",
        "i=0\n",
        "theta_vec = []\n",
        "l = get_theta(8*(L))\n",
        "for k in l :\n",
        "  theta_vec.append(k)\n",
        "while(temp):\n",
        "  set_L(temp)\n",
        "  exp_list.append(circuit(theta_vec))\n",
        "  temp-=1"
      ],
      "execution_count": 13,
      "outputs": [
        {
          "output_type": "stream",
          "text": [
            "enter number of layers3\n",
            "24 l\n"
          ],
          "name": "stdout"
        }
      ]
    },
    {
      "cell_type": "markdown",
      "metadata": {
        "id": "eG5-WOuCb9uH",
        "colab_type": "text"
      },
      "source": [
        "# Observe the L<sup>th</sup> layer circuit "
      ]
    },
    {
      "cell_type": "code",
      "metadata": {
        "id": "zQCCWVZlRxMq",
        "colab_type": "code",
        "colab": {
          "base_uri": "https://localhost:8080/",
          "height": 146
        },
        "outputId": "3e0a8e1d-5f66-43ef-96ed-a702d6a67278"
      },
      "source": [
        "set_L(L)\n",
        "print(type(circuit(theta_vec)))\n",
        "print(circuit.draw())\n",
        "  "
      ],
      "execution_count": 14,
      "outputs": [
        {
          "output_type": "stream",
          "text": [
            "<class 'numpy.ndarray'>\n",
            " 0: ──RX(0.912)──RZ(4.753)──╭C──╭C──────╭C───RX(3.555)───RZ(2.887)─────────────╭C──────────╭C──────╭C───RX(5.001)───RZ(5.751)─────────────╭C──────────╭C──────╭C──────────┤ ⟨Z⟩ \n",
            " 1: ──RX(3.272)──RZ(1.433)──╰Z──│───╭C──│───╭C───────────RX(3.886)──RZ(4.209)──╰Z──────────│───╭C──│───╭C───────────RX(3.511)──RZ(0.025)──╰Z──────────│───╭C──│───╭C──────┤ ⟨Z⟩ \n",
            " 2: ──RX(2.067)──RZ(5.144)──────╰Z──╰Z──│───│───────────╭C──────────RX(1.332)───RZ(5.819)──╰Z──╰Z──│───│───────────╭C──────────RX(4.585)───RZ(0.893)──╰Z──╰Z──│───│───╭C──┤ ⟨Z⟩ \n",
            " 3: ──RX(2.261)──RZ(4.001)──────────────╰Z──╰Z──────────╰Z──────────RX(0.259)───RZ(4.579)──────────╰Z──╰Z──────────╰Z──────────RX(5.569)───RZ(5.905)──────────╰Z──╰Z──╰Z──┤ ⟨Z⟩ \n",
            "\n"
          ],
          "name": "stdout"
        }
      ]
    },
    {
      "cell_type": "code",
      "metadata": {
        "id": "IpOPfiRHOEln",
        "colab_type": "code",
        "colab": {}
      },
      "source": [
        "def cost(params):\n",
        "  psi_theta = circuit(params)\n",
        "  # print(psi_theta)\n",
        "  phi = np.array([0 , 0.3, 0.5, 0])#phi_circuit()\n",
        "  # print(phi)\n",
        "  return np.linalg.norm((psi_theta - phi),ord=2) \n"
      ],
      "execution_count": 15,
      "outputs": []
    },
    {
      "cell_type": "code",
      "metadata": {
        "id": "rKHAknJaP0Eu",
        "colab_type": "code",
        "colab": {
          "base_uri": "https://localhost:8080/",
          "height": 1000
        },
        "outputId": "260f37f7-8838-43f0-a595-baec1314ab41"
      },
      "source": [
        "steps = 400\n",
        "init_params = np.array(theta_vec)\n",
        "\n",
        "qng_cost = []\n",
        "opt =  qml.GradientDescentOptimizer(0.01)\n",
        "\n",
        "set_L(L)\n",
        "theta = init_params\n",
        "# print(theta1,theta2)\n",
        "print(theta)\n",
        "for i in range(steps):\n",
        "    theta = opt.step(cost,theta)\n",
        "    qng_cost.append(cost(theta))\n",
        "    if (i + 1) % 5 == 0:\n",
        "      print(\"Cost after step {:5d}: {: .7f}\".format(i + 1, cost(theta)))"
      ],
      "execution_count": 16,
      "outputs": [
        {
          "output_type": "stream",
          "text": [
            "[0.911779 3.271538 2.067456 2.261148 4.752786 1.433119 5.143918 4.000567\n",
            " 3.554965 3.885521 1.332312 0.259022 2.887393 4.209165 5.819231 4.578963\n",
            " 5.000819 3.511155 4.584591 5.56912  5.750961 0.025479 0.892644 5.905438]\n",
            "Cost after step     5:  1.2593134\n",
            "Cost after step    10:  1.2059270\n",
            "Cost after step    15:  1.1522017\n",
            "Cost after step    20:  1.0984071\n",
            "Cost after step    25:  1.0448236\n",
            "Cost after step    30:  0.9917439\n",
            "Cost after step    35:  0.9394733\n",
            "Cost after step    40:  0.8883292\n",
            "Cost after step    45:  0.8386393\n",
            "Cost after step    50:  0.7907363\n",
            "Cost after step    55:  0.7449500\n",
            "Cost after step    60:  0.7015963\n",
            "Cost after step    65:  0.6609609\n",
            "Cost after step    70:  0.6232819\n",
            "Cost after step    75:  0.5887298\n",
            "Cost after step    80:  0.5573908\n",
            "Cost after step    85:  0.5292542\n",
            "Cost after step    90:  0.5042110\n",
            "Cost after step    95:  0.4820621\n",
            "Cost after step   100:  0.4625379\n",
            "Cost after step   105:  0.4453239\n",
            "Cost after step   110:  0.4300891\n",
            "Cost after step   115:  0.4165099\n",
            "Cost after step   120:  0.4042888\n",
            "Cost after step   125:  0.3931651\n",
            "Cost after step   130:  0.3829195\n",
            "Cost after step   135:  0.3733735\n",
            "Cost after step   140:  0.3643854\n",
            "Cost after step   145:  0.3558460\n",
            "Cost after step   150:  0.3476718\n",
            "Cost after step   155:  0.3398006\n",
            "Cost after step   160:  0.3321861\n",
            "Cost after step   165:  0.3247940\n",
            "Cost after step   170:  0.3175989\n",
            "Cost after step   175:  0.3105813\n",
            "Cost after step   180:  0.3037262\n",
            "Cost after step   185:  0.2970211\n",
            "Cost after step   190:  0.2904551\n",
            "Cost after step   195:  0.2840184\n",
            "Cost after step   200:  0.2777017\n",
            "Cost after step   205:  0.2714957\n",
            "Cost after step   210:  0.2653914\n",
            "Cost after step   215:  0.2593796\n",
            "Cost after step   220:  0.2534515\n",
            "Cost after step   225:  0.2475983\n",
            "Cost after step   230:  0.2418112\n",
            "Cost after step   235:  0.2360820\n",
            "Cost after step   240:  0.2304027\n",
            "Cost after step   245:  0.2247657\n",
            "Cost after step   250:  0.2191639\n",
            "Cost after step   255:  0.2135905\n",
            "Cost after step   260:  0.2080394\n",
            "Cost after step   265:  0.2025047\n",
            "Cost after step   270:  0.1969807\n",
            "Cost after step   275:  0.1914624\n",
            "Cost after step   280:  0.1859449\n",
            "Cost after step   285:  0.1804233\n",
            "Cost after step   290:  0.1748931\n",
            "Cost after step   295:  0.1693498\n",
            "Cost after step   300:  0.1637889\n",
            "Cost after step   305:  0.1582057\n",
            "Cost after step   310:  0.1525956\n",
            "Cost after step   315:  0.1469537\n",
            "Cost after step   320:  0.1412751\n",
            "Cost after step   325:  0.1355543\n",
            "Cost after step   330:  0.1297857\n",
            "Cost after step   335:  0.1239635\n",
            "Cost after step   340:  0.1180813\n",
            "Cost after step   345:  0.1121324\n",
            "Cost after step   350:  0.1061098\n",
            "Cost after step   355:  0.1000059\n",
            "Cost after step   360:  0.0938128\n",
            "Cost after step   365:  0.0875220\n",
            "Cost after step   370:  0.0811248\n",
            "Cost after step   375:  0.0746116\n",
            "Cost after step   380:  0.0679725\n",
            "Cost after step   385:  0.0611971\n",
            "Cost after step   390:  0.0542745\n",
            "Cost after step   395:  0.0471929\n",
            "Cost after step   400:  0.0399402\n"
          ],
          "name": "stdout"
        }
      ]
    },
    {
      "cell_type": "code",
      "metadata": {
        "id": "VKtV5h1wQDka",
        "colab_type": "code",
        "colab": {
          "base_uri": "https://localhost:8080/",
          "height": 361
        },
        "outputId": "819cfc73-209f-429e-e4b2-756d47df260b"
      },
      "source": [
        "from matplotlib import pyplot as plt\n",
        "\n",
        "plt.style.use(\"seaborn\")\n",
        "# plt.plot(gd_cost, \"b\", label=\"Vanilla gradient descent\")\n",
        "plt.plot(qng_cost, \"g\", label=\"Quantum natural gradient descent\")\n",
        "\n",
        "plt.ylabel(\"Cost function value\")\n",
        "plt.xlabel(\"Optimization steps\")\n",
        "plt.legend()\n",
        "plt.show()"
      ],
      "execution_count": 17,
      "outputs": [
        {
          "output_type": "display_data",
          "data": {
            "image/png": "[encoded data removed]",
            "text/plain": [
              "<Figure size 576x396 with 1 Axes>"
            ]
          },
          "metadata": {
            "tags": []
          }
        }
      ]
    },
    {
      "cell_type": "code",
      "metadata": {
        "id": "t98pWrLDSOO6",
        "colab_type": "code",
        "colab": {
          "base_uri": "https://localhost:8080/",
          "height": 1000
        },
        "outputId": "e40eba3a-51a8-46f6-daf7-95995c3c60fd"
      },
      "source": [
        "steps = 200\n",
        "main_l = []\n",
        "opt =  qml.GradientDescentOptimizer(0.01)\n",
        "\n",
        "for layer in range(1,10):\n",
        "  print(layer)\n",
        "  theta = get_theta(8*(layer))\n",
        "  init_params = np.array(theta_vec)   \n",
        "  qng_cost = []\n",
        "  set_L(layer)\n",
        "  print(theta)\n",
        "  circuit(theta)\n",
        "  for i in range(steps):\n",
        "    theta = opt.step(cost,theta)\n",
        "    qng_cost.append(cost(theta))\n",
        "    if (i + 1) % 5 == 0:\n",
        "      print(\"Cost after step {:5d}: {: .7f}\".format(i + 1, cost(theta)))\n",
        "  main_l.append(cost(theta))\n",
        "print(main_l)"
      ],
      "execution_count": 18,
      "outputs": [
        {
          "output_type": "stream",
          "text": [
            "1\n",
            "[5.236221, 2.684324, 0.470296, 5.768795, 2.072286, 1.383653, 1.86029, 2.065872]\n",
            "Cost after step     5:  1.5974597\n",
            "Cost after step    10:  1.5835427\n",
            "Cost after step    15:  1.5690533\n",
            "Cost after step    20:  1.5539590\n",
            "Cost after step    25:  1.5382259\n",
            "Cost after step    30:  1.5218191\n",
            "Cost after step    35:  1.5047025\n",
            "Cost after step    40:  1.4868396\n",
            "Cost after step    45:  1.4681929\n",
            "Cost after step    50:  1.4487250\n",
            "Cost after step    55:  1.4283985\n",
            "Cost after step    60:  1.4071763\n",
            "Cost after step    65:  1.3850223\n",
            "Cost after step    70:  1.3619019\n",
            "Cost after step    75:  1.3377821\n",
            "Cost after step    80:  1.3126325\n",
            "Cost after step    85:  1.2864256\n",
            "Cost after step    90:  1.2591376\n",
            "Cost after step    95:  1.2307490\n",
            "Cost after step   100:  1.2012450\n",
            "Cost after step   105:  1.1706163\n",
            "Cost after step   110:  1.1388599\n",
            "Cost after step   115:  1.1059793\n",
            "Cost after step   120:  1.0719851\n",
            "Cost after step   125:  1.0368955\n",
            "Cost after step   130:  1.0007365\n",
            "Cost after step   135:  0.9635422\n",
            "Cost after step   140:  0.9253546\n",
            "Cost after step   145:  0.8862240\n",
            "Cost after step   150:  0.8462083\n",
            "Cost after step   155:  0.8053727\n",
            "Cost after step   160:  0.7637895\n",
            "Cost after step   165:  0.7215371\n",
            "Cost after step   170:  0.6786997\n",
            "Cost after step   175:  0.6353657\n",
            "Cost after step   180:  0.5916277\n",
            "Cost after step   185:  0.5475808\n",
            "Cost after step   190:  0.5033218\n",
            "Cost after step   195:  0.4589483\n",
            "Cost after step   200:  0.4145573\n",
            "2\n",
            "[0.691492, 2.668206, 1.264451, 0.614995, 4.594094, 0.880732, 1.753481, 5.904853, 2.329266, 2.341014, 1.969565, 3.161407, 0.387603, 0.8433, 4.306749, 0.048498]\n",
            "Cost after step     5:  1.2191463\n",
            "Cost after step    10:  1.1965556\n",
            "Cost after step    15:  1.1738462\n",
            "Cost after step    20:  1.1510186\n",
            "Cost after step    25:  1.1280757\n",
            "Cost after step    30:  1.1050233\n",
            "Cost after step    35:  1.0818714\n",
            "Cost after step    40:  1.0586344\n",
            "Cost after step    45:  1.0353322\n",
            "Cost after step    50:  1.0119904\n",
            "Cost after step    55:  0.9886410\n",
            "Cost after step    60:  0.9653228\n",
            "Cost after step    65:  0.9420811\n",
            "Cost after step    70:  0.9189679\n",
            "Cost after step    75:  0.8960416\n",
            "Cost after step    80:  0.8733661\n",
            "Cost after step    85:  0.8510099\n",
            "Cost after step    90:  0.8290450\n",
            "Cost after step    95:  0.8075454\n",
            "Cost after step   100:  0.7865851\n",
            "Cost after step   105:  0.7662363\n",
            "Cost after step   110:  0.7465673\n",
            "Cost after step   115:  0.7276406\n",
            "Cost after step   120:  0.7095104\n",
            "Cost after step   125:  0.6922213\n",
            "Cost after step   130:  0.6758066\n",
            "Cost after step   135:  0.6602873\n",
            "Cost after step   140:  0.6456716\n",
            "Cost after step   145:  0.6319549\n",
            "Cost after step   150:  0.6191202\n",
            "Cost after step   155:  0.6071391\n",
            "Cost after step   160:  0.5959731\n",
            "Cost after step   165:  0.5855753\n",
            "Cost after step   170:  0.5758920\n",
            "Cost after step   175:  0.5668641\n",
            "Cost after step   180:  0.5584294\n",
            "Cost after step   185:  0.5505234\n",
            "Cost after step   190:  0.5430809\n",
            "Cost after step   195:  0.5360369\n",
            "Cost after step   200:  0.5293270\n",
            "3\n",
            "[1.09072, 3.470741, 2.859693, 5.255945, 3.346242, 3.157099, 5.260146, 5.893521, 2.430995, 3.084711, 4.183415, 4.102062, 1.21849, 0.393021, 3.376419, 5.239265, 3.380285, 5.453113, 4.784012, 0.474619, 6.264256, 1.425086, 3.430804, 2.387411]\n",
            "Cost after step     5:  0.8807104\n",
            "Cost after step    10:  0.8344436\n",
            "Cost after step    15:  0.7901062\n",
            "Cost after step    20:  0.7475147\n",
            "Cost after step    25:  0.7064034\n",
            "Cost after step    30:  0.6664530\n",
            "Cost after step    35:  0.6273189\n",
            "Cost after step    40:  0.5886561\n",
            "Cost after step    45:  0.5501383\n",
            "Cost after step    50:  0.5114701\n",
            "Cost after step    55:  0.4723942\n",
            "Cost after step    60:  0.4326933\n",
            "Cost after step    65:  0.3921897\n",
            "Cost after step    70:  0.3507419\n",
            "Cost after step    75:  0.3082412\n",
            "Cost after step    80:  0.2646074\n",
            "Cost after step    85:  0.2197851\n",
            "Cost after step    90:  0.1737411\n",
            "Cost after step    95:  0.1264634\n",
            "Cost after step   100:  0.0779646\n",
            "Cost after step   105:  0.0283124\n",
            "Cost after step   110:  0.0021219\n",
            "Cost after step   115:  0.0107540\n",
            "Cost after step   120:  0.0039314\n",
            "Cost after step   125:  0.0106567\n",
            "Cost after step   130:  0.0040284\n",
            "Cost after step   135:  0.0105568\n",
            "Cost after step   140:  0.0041255\n",
            "Cost after step   145:  0.0104568\n",
            "Cost after step   150:  0.0042227\n",
            "Cost after step   155:  0.0103567\n",
            "Cost after step   160:  0.0043200\n",
            "Cost after step   165:  0.0102565\n",
            "Cost after step   170:  0.0044173\n",
            "Cost after step   175:  0.0101562\n",
            "Cost after step   180:  0.0045148\n",
            "Cost after step   185:  0.0100559\n",
            "Cost after step   190:  0.0046124\n",
            "Cost after step   195:  0.0099554\n",
            "Cost after step   200:  0.0047100\n",
            "4\n",
            "[5.561297, 1.795455, 5.293295, 2.020955, 4.130612, 1.136013, 4.070386, 4.044827, 0.924977, 3.594219, 4.062173, 6.248156, 5.894918, 5.800801, 3.678252, 4.81571, 3.261535, 3.012677, 3.980706, 4.801744, 2.484795, 2.206996, 5.766376, 1.024852, 4.298207, 5.45195, 2.833396, 4.463418, 3.286393, 3.302706, 3.462886, 6.127892]\n",
            "Cost after step     5:  0.9952765\n",
            "Cost after step    10:  0.9585217\n",
            "Cost after step    15:  0.9215972\n",
            "Cost after step    20:  0.8847140\n",
            "Cost after step    25:  0.8480878\n",
            "Cost after step    30:  0.8119221\n",
            "Cost after step    35:  0.7763928\n",
            "Cost after step    40:  0.7416352\n",
            "Cost after step    45:  0.7077359\n",
            "Cost after step    50:  0.6747302\n",
            "Cost after step    55:  0.6426061\n",
            "Cost after step    60:  0.6113126\n",
            "Cost after step    65:  0.5807721\n",
            "Cost after step    70:  0.5508936\n",
            "Cost after step    75:  0.5215865\n",
            "Cost after step    80:  0.4927724\n",
            "Cost after step    85:  0.4643941\n",
            "Cost after step    90:  0.4364224\n",
            "Cost after step    95:  0.4088595\n",
            "Cost after step   100:  0.3817399\n",
            "Cost after step   105:  0.3551276\n",
            "Cost after step   110:  0.3291118\n",
            "Cost after step   115:  0.3037985\n",
            "Cost after step   120:  0.2793009\n",
            "Cost after step   125:  0.2557274\n",
            "Cost after step   130:  0.2331689\n",
            "Cost after step   135:  0.2116877\n",
            "Cost after step   140:  0.1913092\n",
            "Cost after step   145:  0.1720188\n",
            "Cost after step   150:  0.1537649\n",
            "Cost after step   155:  0.1364662\n",
            "Cost after step   160:  0.1200225\n",
            "Cost after step   165:  0.1043252\n",
            "Cost after step   170:  0.0892652\n",
            "Cost after step   175:  0.0747382\n",
            "Cost after step   180:  0.0606476\n",
            "Cost after step   185:  0.0469071\n",
            "Cost after step   190:  0.0334434\n",
            "Cost after step   195:  0.0202005\n",
            "Cost after step   200:  0.0071449\n",
            "5\n",
            "[4.806701, 0.967962, 2.694473, 6.21199, 6.052646, 5.728473, 6.200863, 2.801182, 4.815024, 3.154418, 2.752512, 1.736319, 5.742078, 3.331392, 6.022278, 5.015269, 6.053999, 2.890445, 4.80302, 5.763604, 3.345423, 1.216763, 0.008885, 3.1774, 3.515673, 1.349656, 3.456438, 0.338321, 1.835176, 6.123947, 2.221042, 0.779318, 4.277897, 0.309797, 5.275172, 3.412317, 6.117848, 1.873204, 1.470919, 2.726026]\n",
            "Cost after step     5:  0.5880406\n",
            "Cost after step    10:  0.5486757\n",
            "Cost after step    15:  0.5118193\n",
            "Cost after step    20:  0.4774422\n",
            "Cost after step    25:  0.4454216\n",
            "Cost after step    30:  0.4155637\n",
            "Cost after step    35:  0.3876293\n",
            "Cost after step    40:  0.3613581\n",
            "Cost after step    45:  0.3364897\n",
            "Cost after step    50:  0.3127778\n",
            "Cost after step    55:  0.2900000\n",
            "Cost after step    60:  0.2679627\n",
            "Cost after step    65:  0.2465046\n",
            "Cost after step    70:  0.2254974\n",
            "Cost after step    75:  0.2048473\n",
            "Cost after step    80:  0.1844961\n",
            "Cost after step    85:  0.1644215\n",
            "Cost after step    90:  0.1446363\n",
            "Cost after step    95:  0.1251843\n",
            "Cost after step   100:  0.1061301\n",
            "Cost after step   105:  0.0875405\n",
            "Cost after step   110:  0.0694561\n",
            "Cost after step   115:  0.0518571\n",
            "Cost after step   120:  0.0346352\n",
            "Cost after step   125:  0.0175958\n",
            "Cost after step   130:  0.0005114\n",
            "Cost after step   135:  0.0089171\n",
            "Cost after step   140:  0.0054684\n",
            "Cost after step   145:  0.0092906\n",
            "Cost after step   150:  0.0054478\n",
            "Cost after step   155:  0.0093065\n",
            "Cost after step   160:  0.0054274\n",
            "Cost after step   165:  0.0093223\n",
            "Cost after step   170:  0.0054072\n",
            "Cost after step   175:  0.0093378\n",
            "Cost after step   180:  0.0053871\n",
            "Cost after step   185:  0.0093533\n",
            "Cost after step   190:  0.0053673\n",
            "Cost after step   195:  0.0093685\n",
            "Cost after step   200:  0.0053476\n",
            "6\n",
            "[0.351377, 1.196773, 1.835221, 3.720154, 3.861681, 2.281416, 4.704549, 5.957044, 2.52556, 5.2876, 3.730774, 2.13314, 3.808008, 5.691865, 1.075719, 0.18959, 3.381987, 3.367141, 1.374499, 0.826338, 2.251496, 5.927118, 0.917243, 3.68475, 0.138376, 6.193947, 1.873847, 1.494584, 4.880279, 3.61139, 0.387912, 1.004764, 2.731379, 3.658117, 2.474722, 2.220996, 1.168979, 5.661194, 4.460019, 5.244463, 5.510145, 0.049655, 3.478168, 0.516267, 3.227405, 4.677232, 0.519325, 4.373492]\n",
            "Cost after step     5:  1.0577320\n",
            "Cost after step    10:  1.0160191\n",
            "Cost after step    15:  0.9730516\n",
            "Cost after step    20:  0.9287560\n",
            "Cost after step    25:  0.8830289\n",
            "Cost after step    30:  0.8357341\n",
            "Cost after step    35:  0.7867055\n",
            "Cost after step    40:  0.7357579\n",
            "Cost after step    45:  0.6827098\n",
            "Cost after step    50:  0.6274198\n",
            "Cost after step    55:  0.5698419\n",
            "Cost after step    60:  0.5101000\n",
            "Cost after step    65:  0.4485869\n",
            "Cost after step    70:  0.3860839\n",
            "Cost after step    75:  0.3238950\n",
            "Cost after step    80:  0.2639478\n",
            "Cost after step    85:  0.2087160\n",
            "Cost after step    90:  0.1606153\n",
            "Cost after step    95:  0.1206222\n",
            "Cost after step   100:  0.0872050\n",
            "Cost after step   105:  0.0575333\n",
            "Cost after step   110:  0.0296906\n",
            "Cost after step   115:  0.0031147\n",
            "Cost after step   120:  0.0078537\n",
            "Cost after step   125:  0.0105738\n",
            "Cost after step   130:  0.0111108\n",
            "Cost after step   135:  0.0104619\n",
            "Cost after step   140:  0.0112154\n",
            "Cost after step   145:  0.0103454\n",
            "Cost after step   150:  0.0113207\n",
            "Cost after step   155:  0.0102285\n",
            "Cost after step   160:  0.0114264\n",
            "Cost after step   165:  0.0101109\n",
            "Cost after step   170:  0.0115328\n",
            "Cost after step   175:  0.0099929\n",
            "Cost after step   180:  0.0116397\n",
            "Cost after step   185:  0.0098743\n",
            "Cost after step   190:  0.0117471\n",
            "Cost after step   195:  0.0097551\n",
            "Cost after step   200:  0.0118551\n",
            "7\n",
            "[6.068155, 4.363917, 2.236563, 1.516199, 1.220332, 5.522652, 0.608227, 4.121819, 4.49034, 5.806685, 1.056111, 2.334727, 1.375507, 0.375826, 5.174697, 3.010557, 4.871397, 6.043107, 4.621549, 0.862897, 0.93651, 0.477587, 6.07433, 2.129992, 0.0699, 2.208112, 5.647661, 5.506921, 2.159468, 2.154956, 5.920628, 6.026925, 1.049474, 2.112317, 4.072223, 5.220504, 2.326666, 6.247048, 3.510182, 0.64193, 2.606947, 4.586486, 1.443567, 2.376262, 5.499508, 0.252188, 6.027245, 4.187447, 0.70898, 4.417817, 5.320655, 5.173964, 4.54198, 2.718144, 3.936133, 2.954414]\n",
            "Cost after step     5:  0.6732005\n",
            "Cost after step    10:  0.5712266\n",
            "Cost after step    15:  0.4729451\n",
            "Cost after step    20:  0.3811235\n",
            "Cost after step    25:  0.2976513\n",
            "Cost after step    30:  0.2232547\n",
            "Cost after step    35:  0.1576334\n",
            "Cost after step    40:  0.0999432\n",
            "Cost after step    45:  0.0492985\n",
            "Cost after step    50:  0.0049234\n",
            "Cost after step    55:  0.0099206\n",
            "Cost after step    60:  0.0132590\n",
            "Cost after step    65:  0.0124233\n",
            "Cost after step    70:  0.0130382\n",
            "Cost after step    75:  0.0125763\n",
            "Cost after step    80:  0.0128194\n",
            "Cost after step    85:  0.0127274\n",
            "Cost after step    90:  0.0126027\n",
            "Cost after step    95:  0.0128767\n",
            "Cost after step   100:  0.0123881\n",
            "Cost after step   105:  0.0130241\n",
            "Cost after step   110:  0.0121755\n",
            "Cost after step   115:  0.0131696\n",
            "Cost after step   120:  0.0119651\n",
            "Cost after step   125:  0.0133132\n",
            "Cost after step   130:  0.0117567\n",
            "Cost after step   135:  0.0134550\n",
            "Cost after step   140:  0.0115503\n",
            "Cost after step   145:  0.0135949\n",
            "Cost after step   150:  0.0113461\n",
            "Cost after step   155:  0.0137329\n",
            "Cost after step   160:  0.0111439\n",
            "Cost after step   165:  0.0138690\n",
            "Cost after step   170:  0.0109439\n",
            "Cost after step   175:  0.0140032\n",
            "Cost after step   180:  0.0107459\n",
            "Cost after step   185:  0.0141356\n",
            "Cost after step   190:  0.0105500\n",
            "Cost after step   195:  0.0142661\n",
            "Cost after step   200:  0.0103562\n",
            "8\n",
            "[3.988894, 2.709667, 3.634052, 2.840966, 1.214412, 1.126931, 3.996738, 0.976103, 0.10073, 5.574119, 6.037429, 1.333403, 4.534998, 1.121131, 2.666858, 2.306975, 4.364713, 3.64527, 2.209549, 4.234291, 3.926614, 3.349108, 1.515432, 3.888296, 4.650827, 1.509446, 4.842772, 2.028596, 1.663968, 0.964233, 5.035863, 4.377018, 3.16329, 2.476609, 3.715319, 4.960747, 6.089379, 2.203284, 1.051298, 1.570591, 0.412092, 2.917181, 5.190795, 3.623803, 3.145257, 1.891926, 5.37431, 2.591245, 0.747046, 3.982939, 3.46963, 4.541505, 0.335466, 5.172478, 4.000632, 5.552012, 4.704108, 1.797294, 4.257146, 4.423442, 5.891868, 1.806951, 4.395561, 2.041399]\n",
            "Cost after step     5:  0.5184896\n",
            "Cost after step    10:  0.3420576\n",
            "Cost after step    15:  0.1834893\n",
            "Cost after step    20:  0.0797979\n",
            "Cost after step    25:  0.0234750\n",
            "Cost after step    30:  0.0113968\n",
            "Cost after step    35:  0.0203692\n",
            "Cost after step    40:  0.0152537\n",
            "Cost after step    45:  0.0210562\n",
            "Cost after step    50:  0.0144977\n",
            "Cost after step    55:  0.0217407\n",
            "Cost after step    60:  0.0137442\n",
            "Cost after step    65:  0.0224228\n",
            "Cost after step    70:  0.0129933\n",
            "Cost after step    75:  0.0231025\n",
            "Cost after step    80:  0.0122449\n",
            "Cost after step    85:  0.0237799\n",
            "Cost after step    90:  0.0114991\n",
            "Cost after step    95:  0.0244548\n",
            "Cost after step   100:  0.0107558\n",
            "Cost after step   105:  0.0251274\n",
            "Cost after step   110:  0.0100150\n",
            "Cost after step   115:  0.0257976\n",
            "Cost after step   120:  0.0092767\n",
            "Cost after step   125:  0.0264655\n",
            "Cost after step   130:  0.0085410\n",
            "Cost after step   135:  0.0271310\n",
            "Cost after step   140:  0.0078077\n",
            "Cost after step   145:  0.0277941\n",
            "Cost after step   150:  0.0070770\n",
            "Cost after step   155:  0.0284548\n",
            "Cost after step   160:  0.0063488\n",
            "Cost after step   165:  0.0291132\n",
            "Cost after step   170:  0.0056231\n",
            "Cost after step   175:  0.0297692\n",
            "Cost after step   180:  0.0048999\n",
            "Cost after step   185:  0.0304228\n",
            "Cost after step   190:  0.0041792\n",
            "Cost after step   195:  0.0310741\n",
            "Cost after step   200:  0.0034610\n",
            "9\n",
            "[5.542121, 4.059832, 1.171451, 5.161174, 1.519206, 3.299236, 2.214291, 6.179815, 3.098115, 0.812162, 3.819611, 1.812437, 2.867887, 0.062196, 5.59159, 0.250823, 0.321445, 6.244243, 1.687206, 4.591721, 5.627224, 2.247308, 2.403367, 5.124175, 0.740412, 2.500589, 0.528639, 5.646424, 3.474136, 5.58126, 6.067975, 5.844932, 3.898165, 5.481592, 3.637304, 5.244027, 0.647285, 3.773208, 4.273317, 1.054985, 6.20571, 3.284959, 6.174769, 3.923957, 5.771803, 0.373646, 1.64143, 3.655329, 5.013181, 2.418579, 1.209498, 1.550365, 2.277387, 2.867329, 1.674132, 1.687638, 4.500498, 5.401318, 3.634735, 5.821584, 2.255078, 2.659245, 1.217771, 5.605376, 0.82369, 2.616116, 6.03861, 4.753189, 6.23167, 0.186943, 2.482786, 5.698816]\n",
            "Cost after step     5:  0.5625968\n",
            "Cost after step    10:  0.4447693\n",
            "Cost after step    15:  0.3383213\n",
            "Cost after step    20:  0.2497716\n",
            "Cost after step    25:  0.1830618\n",
            "Cost after step    30:  0.1337518\n",
            "Cost after step    35:  0.0919014\n",
            "Cost after step    40:  0.0514734\n",
            "Cost after step    45:  0.0116986\n",
            "Cost after step    50:  0.0099788\n",
            "Cost after step    55:  0.0207189\n",
            "Cost after step    60:  0.0106161\n",
            "Cost after step    65:  0.0222826\n",
            "Cost after step    70:  0.0089435\n",
            "Cost after step    75:  0.0238449\n",
            "Cost after step    80:  0.0072717\n",
            "Cost after step    85:  0.0254066\n",
            "Cost after step    90:  0.0056006\n",
            "Cost after step    95:  0.0269679\n",
            "Cost after step   100:  0.0039302\n",
            "Cost after step   105:  0.0285287\n",
            "Cost after step   110:  0.0022605\n",
            "Cost after step   115:  0.0300890\n",
            "Cost after step   120:  0.0005915\n",
            "Cost after step   125:  0.0318084\n",
            "Cost after step   130:  0.0102604\n",
            "Cost after step   135:  0.0198479\n",
            "Cost after step   140:  0.0126296\n",
            "Cost after step   145:  0.0182565\n",
            "Cost after step   150:  0.0141155\n",
            "Cost after step   155:  0.0166656\n",
            "Cost after step   160:  0.0156011\n",
            "Cost after step   165:  0.0150754\n",
            "Cost after step   170:  0.0170865\n",
            "Cost after step   175:  0.0134858\n",
            "Cost after step   180:  0.0185716\n",
            "Cost after step   185:  0.0118967\n",
            "Cost after step   190:  0.0200567\n",
            "Cost after step   195:  0.0103081\n",
            "Cost after step   200:  0.0215418\n",
            "[0.414557282649416, 0.5293270273861828, 0.004710019800965225, 0.007144850960362353, 0.005347566733762508, 0.011855130949046774, 0.01035618786384141, 0.0034609982939869436, 0.021541814104691734]\n"
          ],
          "name": "stdout"
        }
      ]
    },
    {
      "cell_type": "code",
      "metadata": {
        "id": "T2ZaaZ7bTWPi",
        "colab_type": "code",
        "colab": {
          "base_uri": "https://localhost:8080/",
          "height": 395
        },
        "outputId": "e547e143-98d6-4266-8467-865d6eaf2b9a"
      },
      "source": [
        "plt.title(\"Gradient Descent Optimization (Minimum Distance vs. Layers)\")\n",
        "plt.xlabel(\"Layers\")\n",
        "plt.ylabel(\"Minimum Distance\")\n",
        "plt.xticks(np.arange(10))\n",
        "plt.plot([i for i in range(1,len(main_l)+1)],main_l)"
      ],
      "execution_count": 21,
      "outputs": [
        {
          "output_type": "execute_result",
          "data": {
            "text/plain": [
              "[<matplotlib.lines.Line2D at 0x7efc844d2240>]"
            ]
          },
          "metadata": {
            "tags": []
          },
          "execution_count": 21
        },
        {
          "output_type": "display_data",
          "data": {
            "image/png": "[encoded data removed]",
            "text/plain": [
              "<Figure size 576x396 with 1 Axes>"
            ]
          },
          "metadata": {
            "tags": []
          }
        }
      ]
    }
  ]
}