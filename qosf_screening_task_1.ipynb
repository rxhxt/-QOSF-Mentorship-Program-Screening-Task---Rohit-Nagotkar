{
  "nbformat": 4,
  "nbformat_minor": 0,
  "metadata": {
    "colab": {
      "name": "qosf_screening_task_1.ipynb",
      "provenance": [],
      "collapsed_sections": []
    },
    "kernelspec": {
      "name": "python3",
      "display_name": "Python 3"
    }
  },
  "cells": [
    {
      "cell_type": "markdown",
      "metadata": {
        "id": "2GWWdJfsRZLs",
        "colab_type": "text"
      },
      "source": [
        "# TASK 1\n",
        "\n",
        "I am Rohit Nagotkar and this is my implementation of QOSF screening task 1\n",
        "\n",
        "## Objectives\n",
        "\n",
        "*   Implement a Quantum circuit of L layers with two main blocks 'odd' and 'even'.\n",
        "*  Rx is used in odd block and even block consists of Rz and Cz gates.\n",
        "*  We have to calculate the minimum value of the distance between Ψ(θ)(which is obtained from the circuit) and Φ (which is a random vector of 4 qubits), with a certain combination of \"theta(θ)\" parameters.\n",
        "*  We have to analyze how the number of layers affects the minimum distance.\n",
        "\n",
        "\n"
      ]
    },
    {
      "cell_type": "markdown",
      "metadata": {
        "id": "nf_lmP0RW117",
        "colab_type": "text"
      },
      "source": [
        "# Installing Dependencies"
      ]
    },
    {
      "cell_type": "code",
      "metadata": {
        "id": "pRmCnI2XgwLr",
        "colab_type": "code",
        "colab": {
          "base_uri": "https://localhost:8080/",
          "height": 547
        },
        "outputId": "b6116326-1dbe-4595-c5ae-5b84412c3e94"
      },
      "source": [
        "!pip install qiskit -q --upgrade\n",
        "\n",
        "import qiskit.tools.jupyter\n",
        "%qiskit_version_table\n",
        "%qiskit_copyright"
      ],
      "execution_count": 1,
      "outputs": [
        {
          "output_type": "display_data",
          "data": {
            "text/html": [
              "<h3>Version Information</h3><table><tr><th>Qiskit Software</th><th>Version</th></tr><tr><td>Qiskit</td><td>0.20.1</td></tr><tr><td>Terra</td><td>0.15.2</td></tr><tr><td>Aer</td><td>0.6.1</td></tr><tr><td>Ignis</td><td>0.4.0</td></tr><tr><td>Aqua</td><td>0.7.5</td></tr><tr><td>IBM Q Provider</td><td>0.8.0</td></tr><tr><th>System information</th></tr><tr><td>Python</td><td>3.6.9 (default, Jul 17 2020, 12:50:27) \n",
              "[GCC 8.4.0]</td></tr><tr><td>OS</td><td>Linux</td></tr><tr><td>CPUs</td><td>1</td></tr><tr><td>Memory (Gb)</td><td>12.715850830078125</td></tr><tr><td colspan='2'>Wed Sep 16 05:33:00 2020 UTC</td></tr></table>"
            ],
            "text/plain": [
              "<IPython.core.display.HTML object>"
            ]
          },
          "metadata": {
            "tags": []
          }
        },
        {
          "output_type": "display_data",
          "data": {
            "text/html": [
              "<div style='width: 100%; background-color:#d5d9e0;padding-left: 10px; padding-bottom: 10px; padding-right: 10px; padding-top: 5px'><h3>This code is a part of Qiskit</h3><p>&copy; Copyright IBM 2017, 2020.</p><p>This code is licensed under the Apache License, Version 2.0. You may<br>obtain a copy of this license in the LICENSE.txt file in the root directory<br> of this source tree or at http://www.apache.org/licenses/LICENSE-2.0.<p>Any modifications or derivative works of this code must retain this<br>copyright notice, and modified files need to carry a notice indicating<br>that they have been altered from the originals.</p></div>"
            ],
            "text/plain": [
              "<IPython.core.display.HTML object>"
            ]
          },
          "metadata": {
            "tags": []
          }
        }
      ]
    },
    {
      "cell_type": "code",
      "metadata": {
        "id": "sB0VKLRWbDDi",
        "colab_type": "code",
        "colab": {
          "base_uri": "https://localhost:8080/",
          "height": 199
        },
        "outputId": "e77252a0-414d-49d0-c701-a3e471746eeb"
      },
      "source": [
        "!pip install pennylane --upgrade"
      ],
      "execution_count": 2,
      "outputs": [
        {
          "output_type": "stream",
          "text": [
            "Requirement already up-to-date: pennylane in /usr/local/lib/python3.6/dist-packages (0.11.0)\n",
            "Requirement already satisfied, skipping upgrade: networkx in /usr/local/lib/python3.6/dist-packages (from pennylane) (2.5)\n",
            "Requirement already satisfied, skipping upgrade: autograd in /usr/local/lib/python3.6/dist-packages (from pennylane) (1.3)\n",
            "Requirement already satisfied, skipping upgrade: scipy in /usr/local/lib/python3.6/dist-packages (from pennylane) (1.4.1)\n",
            "Requirement already satisfied, skipping upgrade: numpy in /usr/local/lib/python3.6/dist-packages (from pennylane) (1.18.5)\n",
            "Requirement already satisfied, skipping upgrade: semantic-version==2.6 in /usr/local/lib/python3.6/dist-packages (from pennylane) (2.6.0)\n",
            "Requirement already satisfied, skipping upgrade: appdirs in /usr/local/lib/python3.6/dist-packages (from pennylane) (1.4.4)\n",
            "Requirement already satisfied, skipping upgrade: toml in /usr/local/lib/python3.6/dist-packages (from pennylane) (0.10.1)\n",
            "Requirement already satisfied, skipping upgrade: decorator>=4.3.0 in /usr/local/lib/python3.6/dist-packages (from networkx->pennylane) (4.4.2)\n",
            "Requirement already satisfied, skipping upgrade: future>=0.15.2 in /usr/local/lib/python3.6/dist-packages (from autograd->pennylane) (0.16.0)\n"
          ],
          "name": "stdout"
        }
      ]
    },
    {
      "cell_type": "code",
      "metadata": {
        "id": "TlL9ZI9ya6ft",
        "colab_type": "code",
        "colab": {
          "base_uri": "https://localhost:8080/",
          "height": 1000
        },
        "outputId": "81f948fe-7f60-4b78-933b-23eef8c825a6"
      },
      "source": [
        "!pip install pennylane-qiskit"
      ],
      "execution_count": 3,
      "outputs": [
        {
          "output_type": "stream",
          "text": [
            "Requirement already satisfied: pennylane-qiskit in /usr/local/lib/python3.6/dist-packages (0.11.0)\n",
            "Requirement already satisfied: pyscf<=1.7.2 in /usr/local/lib/python3.6/dist-packages (from pennylane-qiskit) (1.7.2)\n",
            "Requirement already satisfied: numpy in /usr/local/lib/python3.6/dist-packages (from pennylane-qiskit) (1.18.5)\n",
            "Requirement already satisfied: qiskit>=0.20 in /usr/local/lib/python3.6/dist-packages (from pennylane-qiskit) (0.20.1)\n",
            "Requirement already satisfied: networkx>=2.2; python_version > \"3.5\" in /usr/local/lib/python3.6/dist-packages (from pennylane-qiskit) (2.5)\n",
            "Requirement already satisfied: pennylane>=0.11.0 in /usr/local/lib/python3.6/dist-packages (from pennylane-qiskit) (0.11.0)\n",
            "Requirement already satisfied: h5py in /usr/local/lib/python3.6/dist-packages (from pyscf<=1.7.2->pennylane-qiskit) (2.10.0)\n",
            "Requirement already satisfied: scipy in /usr/local/lib/python3.6/dist-packages (from pyscf<=1.7.2->pennylane-qiskit) (1.4.1)\n",
            "Requirement already satisfied: qiskit-terra==0.15.2 in /usr/local/lib/python3.6/dist-packages (from qiskit>=0.20->pennylane-qiskit) (0.15.2)\n",
            "Requirement already satisfied: qiskit-aqua==0.7.5 in /usr/local/lib/python3.6/dist-packages (from qiskit>=0.20->pennylane-qiskit) (0.7.5)\n",
            "Requirement already satisfied: qiskit-ignis==0.4.0 in /usr/local/lib/python3.6/dist-packages (from qiskit>=0.20->pennylane-qiskit) (0.4.0)\n",
            "Requirement already satisfied: qiskit-aer==0.6.1 in /usr/local/lib/python3.6/dist-packages (from qiskit>=0.20->pennylane-qiskit) (0.6.1)\n",
            "Requirement already satisfied: qiskit-ibmq-provider==0.8.0 in /usr/local/lib/python3.6/dist-packages (from qiskit>=0.20->pennylane-qiskit) (0.8.0)\n",
            "Requirement already satisfied: decorator>=4.3.0 in /usr/local/lib/python3.6/dist-packages (from networkx>=2.2; python_version > \"3.5\"->pennylane-qiskit) (4.4.2)\n",
            "Requirement already satisfied: appdirs in /usr/local/lib/python3.6/dist-packages (from pennylane>=0.11.0->pennylane-qiskit) (1.4.4)\n",
            "Requirement already satisfied: autograd in /usr/local/lib/python3.6/dist-packages (from pennylane>=0.11.0->pennylane-qiskit) (1.3)\n",
            "Requirement already satisfied: toml in /usr/local/lib/python3.6/dist-packages (from pennylane>=0.11.0->pennylane-qiskit) (0.10.1)\n",
            "Requirement already satisfied: semantic-version==2.6 in /usr/local/lib/python3.6/dist-packages (from pennylane>=0.11.0->pennylane-qiskit) (2.6.0)\n",
            "Requirement already satisfied: six in /usr/local/lib/python3.6/dist-packages (from h5py->pyscf<=1.7.2->pennylane-qiskit) (1.15.0)\n",
            "Requirement already satisfied: contextvars>=2.4; python_version < \"3.7\" in /usr/local/lib/python3.6/dist-packages (from qiskit-terra==0.15.2->qiskit>=0.20->pennylane-qiskit) (2.4)\n",
            "Requirement already satisfied: dill>=0.3 in /usr/local/lib/python3.6/dist-packages (from qiskit-terra==0.15.2->qiskit>=0.20->pennylane-qiskit) (0.3.2)\n",
            "Requirement already satisfied: python-dateutil>=2.8.0 in /usr/local/lib/python3.6/dist-packages (from qiskit-terra==0.15.2->qiskit>=0.20->pennylane-qiskit) (2.8.1)\n",
            "Requirement already satisfied: jsonschema>=2.6 in /usr/local/lib/python3.6/dist-packages (from qiskit-terra==0.15.2->qiskit>=0.20->pennylane-qiskit) (2.6.0)\n",
            "Requirement already satisfied: retworkx>=0.4.0 in /usr/local/lib/python3.6/dist-packages (from qiskit-terra==0.15.2->qiskit>=0.20->pennylane-qiskit) (0.4.0)\n",
            "Requirement already satisfied: fastjsonschema>=2.10 in /usr/local/lib/python3.6/dist-packages (from qiskit-terra==0.15.2->qiskit>=0.20->pennylane-qiskit) (2.14.5)\n",
            "Requirement already satisfied: sympy>=1.3 in /usr/local/lib/python3.6/dist-packages (from qiskit-terra==0.15.2->qiskit>=0.20->pennylane-qiskit) (1.6.2)\n",
            "Requirement already satisfied: python-constraint>=1.4 in /usr/local/lib/python3.6/dist-packages (from qiskit-terra==0.15.2->qiskit>=0.20->pennylane-qiskit) (1.4.0)\n",
            "Requirement already satisfied: ply>=3.10 in /usr/local/lib/python3.6/dist-packages (from qiskit-terra==0.15.2->qiskit>=0.20->pennylane-qiskit) (3.11)\n",
            "Requirement already satisfied: psutil>=5 in /usr/local/lib/python3.6/dist-packages (from qiskit-terra==0.15.2->qiskit>=0.20->pennylane-qiskit) (5.4.8)\n",
            "Requirement already satisfied: docplex in /usr/local/lib/python3.6/dist-packages (from qiskit-aqua==0.7.5->qiskit>=0.20->pennylane-qiskit) (2.15.194)\n",
            "Requirement already satisfied: dlx in /usr/local/lib/python3.6/dist-packages (from qiskit-aqua==0.7.5->qiskit>=0.20->pennylane-qiskit) (1.0.4)\n",
            "Requirement already satisfied: yfinance in /usr/local/lib/python3.6/dist-packages (from qiskit-aqua==0.7.5->qiskit>=0.20->pennylane-qiskit) (0.1.54)\n",
            "Requirement already satisfied: pandas in /usr/local/lib/python3.6/dist-packages (from qiskit-aqua==0.7.5->qiskit>=0.20->pennylane-qiskit) (1.0.5)\n",
            "Requirement already satisfied: quandl in /usr/local/lib/python3.6/dist-packages (from qiskit-aqua==0.7.5->qiskit>=0.20->pennylane-qiskit) (3.5.2)\n",
            "Requirement already satisfied: setuptools>=40.1.0 in /usr/local/lib/python3.6/dist-packages (from qiskit-aqua==0.7.5->qiskit>=0.20->pennylane-qiskit) (50.3.0)\n",
            "Requirement already satisfied: fastdtw in /usr/local/lib/python3.6/dist-packages (from qiskit-aqua==0.7.5->qiskit>=0.20->pennylane-qiskit) (0.3.4)\n",
            "Requirement already satisfied: scikit-learn>=0.20.0 in /usr/local/lib/python3.6/dist-packages (from qiskit-aqua==0.7.5->qiskit>=0.20->pennylane-qiskit) (0.22.2.post1)\n",
            "Requirement already satisfied: cython>=0.27.1 in /usr/local/lib/python3.6/dist-packages (from qiskit-aer==0.6.1->qiskit>=0.20->pennylane-qiskit) (0.29.21)\n",
            "Requirement already satisfied: pybind11>=2.4 in /usr/local/lib/python3.6/dist-packages (from qiskit-aer==0.6.1->qiskit>=0.20->pennylane-qiskit) (2.5.0)\n",
            "Requirement already satisfied: websockets<8,>=7; python_version <= \"3.6\" in /usr/local/lib/python3.6/dist-packages (from qiskit-ibmq-provider==0.8.0->qiskit>=0.20->pennylane-qiskit) (7.0)\n",
            "Requirement already satisfied: requests-ntlm>=1.1.0 in /usr/local/lib/python3.6/dist-packages (from qiskit-ibmq-provider==0.8.0->qiskit>=0.20->pennylane-qiskit) (1.1.0)\n",
            "Requirement already satisfied: requests>=2.19 in /usr/local/lib/python3.6/dist-packages (from qiskit-ibmq-provider==0.8.0->qiskit>=0.20->pennylane-qiskit) (2.23.0)\n",
            "Requirement already satisfied: urllib3>=1.21.1 in /usr/local/lib/python3.6/dist-packages (from qiskit-ibmq-provider==0.8.0->qiskit>=0.20->pennylane-qiskit) (1.24.3)\n",
            "Requirement already satisfied: nest-asyncio!=1.1.0,>=1.0.0 in /usr/local/lib/python3.6/dist-packages (from qiskit-ibmq-provider==0.8.0->qiskit>=0.20->pennylane-qiskit) (1.4.0)\n",
            "Requirement already satisfied: future>=0.15.2 in /usr/local/lib/python3.6/dist-packages (from autograd->pennylane>=0.11.0->pennylane-qiskit) (0.16.0)\n",
            "Requirement already satisfied: immutables>=0.9 in /usr/local/lib/python3.6/dist-packages (from contextvars>=2.4; python_version < \"3.7\"->qiskit-terra==0.15.2->qiskit>=0.20->pennylane-qiskit) (0.14)\n",
            "Requirement already satisfied: mpmath>=0.19 in /usr/local/lib/python3.6/dist-packages (from sympy>=1.3->qiskit-terra==0.15.2->qiskit>=0.20->pennylane-qiskit) (1.1.0)\n",
            "Requirement already satisfied: multitasking>=0.0.7 in /usr/local/lib/python3.6/dist-packages (from yfinance->qiskit-aqua==0.7.5->qiskit>=0.20->pennylane-qiskit) (0.0.9)\n",
            "Requirement already satisfied: pytz>=2017.2 in /usr/local/lib/python3.6/dist-packages (from pandas->qiskit-aqua==0.7.5->qiskit>=0.20->pennylane-qiskit) (2018.9)\n",
            "Requirement already satisfied: more-itertools in /usr/local/lib/python3.6/dist-packages (from quandl->qiskit-aqua==0.7.5->qiskit>=0.20->pennylane-qiskit) (8.5.0)\n",
            "Requirement already satisfied: inflection>=0.3.1 in /usr/local/lib/python3.6/dist-packages (from quandl->qiskit-aqua==0.7.5->qiskit>=0.20->pennylane-qiskit) (0.5.1)\n",
            "Requirement already satisfied: joblib>=0.11 in /usr/local/lib/python3.6/dist-packages (from scikit-learn>=0.20.0->qiskit-aqua==0.7.5->qiskit>=0.20->pennylane-qiskit) (0.16.0)\n",
            "Requirement already satisfied: cryptography>=1.3 in /usr/local/lib/python3.6/dist-packages (from requests-ntlm>=1.1.0->qiskit-ibmq-provider==0.8.0->qiskit>=0.20->pennylane-qiskit) (3.1)\n",
            "Requirement already satisfied: ntlm-auth>=1.0.2 in /usr/local/lib/python3.6/dist-packages (from requests-ntlm>=1.1.0->qiskit-ibmq-provider==0.8.0->qiskit>=0.20->pennylane-qiskit) (1.5.0)\n",
            "Requirement already satisfied: certifi>=2017.4.17 in /usr/local/lib/python3.6/dist-packages (from requests>=2.19->qiskit-ibmq-provider==0.8.0->qiskit>=0.20->pennylane-qiskit) (2020.6.20)\n",
            "Requirement already satisfied: chardet<4,>=3.0.2 in /usr/local/lib/python3.6/dist-packages (from requests>=2.19->qiskit-ibmq-provider==0.8.0->qiskit>=0.20->pennylane-qiskit) (3.0.4)\n",
            "Requirement already satisfied: idna<3,>=2.5 in /usr/local/lib/python3.6/dist-packages (from requests>=2.19->qiskit-ibmq-provider==0.8.0->qiskit>=0.20->pennylane-qiskit) (2.10)\n",
            "Requirement already satisfied: cffi!=1.11.3,>=1.8 in /usr/local/lib/python3.6/dist-packages (from cryptography>=1.3->requests-ntlm>=1.1.0->qiskit-ibmq-provider==0.8.0->qiskit>=0.20->pennylane-qiskit) (1.14.2)\n",
            "Requirement already satisfied: pycparser in /usr/local/lib/python3.6/dist-packages (from cffi!=1.11.3,>=1.8->cryptography>=1.3->requests-ntlm>=1.1.0->qiskit-ibmq-provider==0.8.0->qiskit>=0.20->pennylane-qiskit) (2.20)\n"
          ],
          "name": "stdout"
        }
      ]
    },
    {
      "cell_type": "code",
      "metadata": {
        "id": "5u0aeEXPbVoH",
        "colab_type": "code",
        "colab": {}
      },
      "source": [
        "!pip install autograd tensorflow>=1.13.2"
      ],
      "execution_count": 4,
      "outputs": []
    },
    {
      "cell_type": "markdown",
      "metadata": {
        "id": "s5Lj19KaXAqm",
        "colab_type": "text"
      },
      "source": [
        "# Importing Libraries"
      ]
    },
    {
      "cell_type": "code",
      "metadata": {
        "id": "Q5UayFKrbbAL",
        "colab_type": "code",
        "colab": {
          "base_uri": "https://localhost:8080/",
          "height": 454
        },
        "outputId": "e7b81c16-4c7c-469a-f0a7-053c61049366"
      },
      "source": [
        "import pennylane as qml\n",
        "from math import sqrt\n",
        "from pennylane import numpy as np\n",
        "qml.about()"
      ],
      "execution_count": 5,
      "outputs": [
        {
          "output_type": "stream",
          "text": [
            "Name: PennyLane\n",
            "Version: 0.11.0\n",
            "Summary: PennyLane is a Python quantum machine learning library by Xanadu Inc.\n",
            "Home-page: https://github.com/XanaduAI/pennylane\n",
            "Author: None\n",
            "Author-email: None\n",
            "License: Apache License 2.0\n",
            "Location: /usr/local/lib/python3.6/dist-packages\n",
            "Requires: semantic-version, networkx, autograd, scipy, toml, numpy, appdirs\n",
            "Required-by: PennyLane-qiskit\n",
            "Platform info:           Linux-4.19.112+-x86_64-with-Ubuntu-18.04-bionic\n",
            "Python version:          3.6.9\n",
            "Numpy version:           1.18.5\n",
            "Scipy version:           1.4.1\n",
            "Installed devices:\n",
            "- default.gaussian (PennyLane-0.11.0)\n",
            "- default.qubit (PennyLane-0.11.0)\n",
            "- default.qubit.autograd (PennyLane-0.11.0)\n",
            "- default.qubit.tf (PennyLane-0.11.0)\n",
            "- default.tensor (PennyLane-0.11.0)\n",
            "- default.tensor.tf (PennyLane-0.11.0)\n",
            "- qiskit.aer (PennyLane-qiskit-0.11.0)\n",
            "- qiskit.basicaer (PennyLane-qiskit-0.11.0)\n",
            "- qiskit.ibmq (PennyLane-qiskit-0.11.0)\n"
          ],
          "name": "stdout"
        }
      ]
    },
    {
      "cell_type": "code",
      "metadata": {
        "id": "cB6GEYnZNALL",
        "colab_type": "code",
        "colab": {}
      },
      "source": [
        "import qiskit\n",
        "from qiskit import QuantumCircuit, execute, Aer\n",
        "import math\n",
        "from qiskit.quantum_info import random_statevector\n",
        "from qiskit.visualization import plot_histogram,plot_bloch_multivector\n",
        "import numpy as np_c\n",
        "import random"
      ],
      "execution_count": 23,
      "outputs": []
    },
    {
      "cell_type": "markdown",
      "metadata": {
        "id": "UQ6O5JgEacRE",
        "colab_type": "text"
      },
      "source": [
        "#Global Variable"
      ]
    },
    {
      "cell_type": "code",
      "metadata": {
        "id": "K1XSgGkSSegN",
        "colab_type": "code",
        "colab": {}
      },
      "source": [
        "theta_vec = []\n"
      ],
      "execution_count": 7,
      "outputs": []
    },
    {
      "cell_type": "markdown",
      "metadata": {
        "id": "aXn5PfE3ag37",
        "colab_type": "text"
      },
      "source": [
        "# Get list of theta values for every block\n"
      ]
    },
    {
      "cell_type": "code",
      "metadata": {
        "id": "4J9SnVqha7nH",
        "colab_type": "code",
        "colab": {}
      },
      "source": [
        "\n",
        "def get_theta(size=4):\n",
        "  return [round(random.uniform(0,2*np_c.pi),6) for i in range(size)]\n",
        "   "
      ],
      "execution_count": 10,
      "outputs": []
    },
    {
      "cell_type": "markdown",
      "metadata": {
        "id": "oT2QLXOxbX9v",
        "colab_type": "text"
      },
      "source": [
        "# Main Circuit Builder funcutons"
      ]
    },
    {
      "cell_type": "code",
      "metadata": {
        "id": "QpOm7lq5SuiH",
        "colab_type": "code",
        "colab": {}
      },
      "source": [
        "global Lg\n",
        "def set_L(l):\n",
        "  #Set the L layer for Qnode below\n",
        "  global Lg\n",
        "  Lg = l\n",
        "\n",
        "dev1 = qml.device(\"default.qubit\", wires=4)\n",
        "@qml.qnode(dev1)\n",
        "def circuit(params):\n",
        "  global Lg\n",
        "  for j in range(Lg): #To iterate for L layers\n",
        "    #Odd block\n",
        "    for i in range(4): \n",
        "      qml.RX(params[i+(j*8)],wires = i)\n",
        "    #Even Block\n",
        "    for i in range(4):\n",
        "      qml.RZ(params[i+4+(j*8)],wires = i)\n",
        "    qml.CZ(wires = [0,1])\n",
        "    qml.CZ(wires = [0,2])\n",
        "    qml.CZ(wires = [0,3])\n",
        "    qml.CZ(wires = [1,2])\n",
        "    qml.CZ(wires = [1,3])\n",
        "    qml.CZ(wires = [2,3])\n",
        "  return qml.expval(qml.PauliZ(0)),qml.expval(qml.PauliZ(1)),qml.expval(qml.PauliZ(2)),qml.expval(qml.PauliZ(3))\n"
      ],
      "execution_count": 12,
      "outputs": []
    },
    {
      "cell_type": "markdown",
      "metadata": {
        "id": "wWc-MNIIbyJb",
        "colab_type": "text"
      },
      "source": [
        "# Input No. of layers and build circuits from 1-L"
      ]
    },
    {
      "cell_type": "code",
      "metadata": {
        "id": "nCDpRkgkNt6s",
        "colab_type": "code",
        "colab": {
          "base_uri": "https://localhost:8080/",
          "height": 54
        },
        "outputId": "7d4ce1e7-2b8d-4e7e-e3d9-6029da9d4256"
      },
      "source": [
        "#To check if L layer circuits are formed\n",
        "\n",
        "L = int(input(\"enter number of layers > \"))\n",
        "exp_list = []\n",
        "temp = L\n",
        "theta_vec = []\n",
        "l = get_theta(8*(L))\n",
        "for k in l :\n",
        "  theta_vec.append(k)\n",
        "while(temp):\n",
        "  set_L(temp)\n",
        "  exp_list.append(circuit(theta_vec))\n",
        "  temp-=1"
      ],
      "execution_count": 13,
      "outputs": [
        {
          "output_type": "stream",
          "text": [
            "enter number of layers3\n",
            "24 l\n"
          ],
          "name": "stdout"
        }
      ]
    },
    {
      "cell_type": "markdown",
      "metadata": {
        "id": "eG5-WOuCb9uH",
        "colab_type": "text"
      },
      "source": [
        "# Observe the L<sup>th</sup> layer circuit "
      ]
    },
    {
      "cell_type": "code",
      "metadata": {
        "id": "zQCCWVZlRxMq",
        "colab_type": "code",
        "colab": {
          "base_uri": "https://localhost:8080/",
          "height": 146
        },
        "outputId": "3e0a8e1d-5f66-43ef-96ed-a702d6a67278"
      },
      "source": [
        "set_L(L)\n",
        "print(type(circuit(theta_vec)))\n",
        "print(circuit.draw())\n",
        "  "
      ],
      "execution_count": 14,
      "outputs": [
        {
          "output_type": "stream",
          "text": [
            "<class 'numpy.ndarray'>\n",
            " 0: ──RX(0.912)──RZ(4.753)──╭C──╭C──────╭C───RX(3.555)───RZ(2.887)─────────────╭C──────────╭C──────╭C───RX(5.001)───RZ(5.751)─────────────╭C──────────╭C──────╭C──────────┤ ⟨Z⟩ \n",
            " 1: ──RX(3.272)──RZ(1.433)──╰Z──│───╭C──│───╭C───────────RX(3.886)──RZ(4.209)──╰Z──────────│───╭C──│───╭C───────────RX(3.511)──RZ(0.025)──╰Z──────────│───╭C──│───╭C──────┤ ⟨Z⟩ \n",
            " 2: ──RX(2.067)──RZ(5.144)──────╰Z──╰Z──│───│───────────╭C──────────RX(1.332)───RZ(5.819)──╰Z──╰Z──│───│───────────╭C──────────RX(4.585)───RZ(0.893)──╰Z──╰Z──│───│───╭C──┤ ⟨Z⟩ \n",
            " 3: ──RX(2.261)──RZ(4.001)──────────────╰Z──╰Z──────────╰Z──────────RX(0.259)───RZ(4.579)──────────╰Z──╰Z──────────╰Z──────────RX(5.569)───RZ(5.905)──────────╰Z──╰Z──╰Z──┤ ⟨Z⟩ \n",
            "\n"
          ],
          "name": "stdout"
        }
      ]
    },
    {
      "cell_type": "markdown",
      "metadata": {
        "id": "jmaulNE5liX9",
        "colab_type": "text"
      },
      "source": [
        "# Creating a Random Φ vector of 4 qubits"
      ]
    },
    {
      "cell_type": "code",
      "metadata": {
        "id": "3Hbuh0CZiQ08",
        "colab_type": "code",
        "colab": {}
      },
      "source": [
        "phi_vec = np.random.normal(size = 4)"
      ],
      "execution_count": 43,
      "outputs": []
    },
    {
      "cell_type": "markdown",
      "metadata": {
        "id": "kTNn_8iAltO6",
        "colab_type": "text"
      },
      "source": [
        "# Cost function which has to be minimized"
      ]
    },
    {
      "cell_type": "code",
      "metadata": {
        "id": "IpOPfiRHOEln",
        "colab_type": "code",
        "colab": {}
      },
      "source": [
        "def cost(params):\n",
        "  psi_theta = circuit(params)\n",
        "  # print(psi_theta)\n",
        "  state = random_statevector(4) \n",
        "  phi = phi_vec#np.array([0 , 0.3, 0.5, 0])#phi_circuit()\n",
        "  # print(phi)\n",
        "  return np.linalg.norm((psi_theta - phi),ord=2) \n"
      ],
      "execution_count": 44,
      "outputs": []
    },
    {
      "cell_type": "markdown",
      "metadata": {
        "id": "DlilpILSlx88",
        "colab_type": "text"
      },
      "source": [
        "# Trial run of optimizing the L<sup>th</sup> layer\n",
        " "
      ]
    },
    {
      "cell_type": "code",
      "metadata": {
        "id": "rKHAknJaP0Eu",
        "colab_type": "code",
        "colab": {
          "base_uri": "https://localhost:8080/",
          "height": 435
        },
        "outputId": "d2d30b7d-ab69-4693-877e-662b290c8a88"
      },
      "source": [
        "steps = 200\n",
        "init_params = np.array(theta_vec)\n",
        "\n",
        "qng_cost = []\n",
        "opt =  qml.GradientDescentOptimizer(0.01)\n",
        "\n",
        "set_L(L)\n",
        "theta = init_params\n",
        "# print(theta1,theta2)\n",
        "print(theta)\n",
        "for i in range(steps):\n",
        "    theta = opt.step(cost,theta)\n",
        "    qng_cost.append(cost(theta))\n",
        "    if (i + 1) % 5 == 0:\n",
        "      print(\"Cost after step {:5d}: {: .7f}\".format(i + 1, cost(theta)))"
      ],
      "execution_count": 45,
      "outputs": [
        {
          "output_type": "stream",
          "text": [
            "[0.911779 3.271538 2.067456 2.261148 4.752786 1.433119 5.143918 4.000567\n",
            " 3.554965 3.885521 1.332312 0.259022 2.887393 4.209165 5.819231 4.578963\n",
            " 5.000819 3.511155 4.584591 5.56912  5.750961 0.025479 0.892644 5.905438]\n",
            "Cost after step     5:  1.0055141\n",
            "Cost after step    10:  0.9643436\n",
            "Cost after step    15:  0.9239394\n",
            "Cost after step    20:  0.8844663\n",
            "Cost after step    25:  0.8460612\n",
            "Cost after step    30:  0.8088324\n",
            "Cost after step    35:  0.7728599\n",
            "Cost after step    40:  0.7381970\n",
            "Cost after step    45:  0.7048722\n",
            "Cost after step    50:  0.6728928\n",
            "Cost after step    55:  0.6422476\n",
            "Cost after step    60:  0.6129102\n",
            "Cost after step    65:  0.5848423\n",
            "Cost after step    70:  0.5579967\n",
            "Cost after step    75:  0.5323191\n",
            "Cost after step    80:  0.5077510\n",
            "Cost after step    85:  0.4842309\n",
            "Cost after step    90:  0.4616957\n",
            "Cost after step    95:  0.4400818\n",
            "Cost after step   100:  0.4193255\n"
          ],
          "name": "stdout"
        }
      ]
    },
    {
      "cell_type": "markdown",
      "metadata": {
        "id": "uNSLHGhNl8sM",
        "colab_type": "text"
      },
      "source": [
        "# Plot for Gradient Descent on L<sup>th</sup> layer"
      ]
    },
    {
      "cell_type": "code",
      "metadata": {
        "id": "VKtV5h1wQDka",
        "colab_type": "code",
        "colab": {
          "base_uri": "https://localhost:8080/",
          "height": 361
        },
        "outputId": "819cfc73-209f-429e-e4b2-756d47df260b"
      },
      "source": [
        "from matplotlib import pyplot as plt\n",
        "\n",
        "plt.style.use(\"seaborn\")\n",
        "# plt.plot(gd_cost, \"b\", label=\"Vanilla gradient descent\")\n",
        "plt.plot(qng_cost, \"g\", label=\"Quantum natural gradient descent\")\n",
        "\n",
        "plt.ylabel(\"Cost function value\")\n",
        "plt.xlabel(\"Optimization steps\")\n",
        "plt.legend()\n",
        "plt.show()"
      ],
      "execution_count": 17,
      "outputs": [
        {
          "output_type": "display_data",
          "data": {
            "image/png": "[encoded data removed]",
            "text/plain": [
              "<Figure size 576x396 with 1 Axes>"
            ]
          },
          "metadata": {
            "tags": []
          }
        }
      ]
    },
    {
      "cell_type": "markdown",
      "metadata": {
        "id": "LsMTeQF3mIiE",
        "colab_type": "text"
      },
      "source": [
        "# Running the optimizer for every layer from 1 to L and storing its values"
      ]
    },
    {
      "cell_type": "code",
      "metadata": {
        "id": "t98pWrLDSOO6",
        "colab_type": "code",
        "colab": {
          "base_uri": "https://localhost:8080/",
          "height": 1000
        },
        "outputId": "005f91b3-ff4d-4de9-c060-8e606b63ca1f"
      },
      "source": [
        "xsteps = 200\n",
        "main_l = []\n",
        "opt =  qml.GradientDescentOptimizer(0.01)\n",
        "\n",
        "for layer in range(1,10):\n",
        "  print(layer)\n",
        "  theta = get_theta(8*(layer))\n",
        "  init_params = np.array(theta_vec)   \n",
        "  qng_cost = []\n",
        "  set_L(layer)\n",
        "  print(theta)\n",
        "  circuit(theta)\n",
        "  for i in range(steps):\n",
        "    theta = opt.step(cost,theta)\n",
        "    qng_cost.append(cost(theta))\n",
        "    if (i + 1) % 5 == 0:\n",
        "      print(\"Cost after step {:5d}: {: .7f}\".format(i + 1, cost(theta)))\n",
        "  main_l.append(cost(theta))\n",
        "print(main_l)"
      ],
      "execution_count": 46,
      "outputs": [
        {
          "output_type": "stream",
          "text": [
            "1\n",
            "[3.789808, 2.010472, 1.311771, 0.426119, 2.469643, 3.553914, 3.35422, 5.831125]\n",
            "Cost after step     5:  1.1079082\n",
            "Cost after step    10:  1.0877471\n",
            "Cost after step    15:  1.0674287\n",
            "Cost after step    20:  1.0469093\n",
            "Cost after step    25:  1.0261349\n",
            "Cost after step    30:  1.0050424\n",
            "Cost after step    35:  0.9835596\n",
            "Cost after step    40:  0.9616070\n",
            "Cost after step    45:  0.9390983\n",
            "Cost after step    50:  0.9159417\n",
            "Cost after step    55:  0.8920419\n",
            "Cost after step    60:  0.8673012\n",
            "Cost after step    65:  0.8416214\n",
            "Cost after step    70:  0.8149057\n",
            "Cost after step    75:  0.7870606\n",
            "Cost after step    80:  0.7579980\n",
            "Cost after step    85:  0.7276375\n",
            "Cost after step    90:  0.6959086\n",
            "Cost after step    95:  0.6627530\n",
            "Cost after step   100:  0.6281268\n",
            "Cost after step   105:  0.5920030\n",
            "Cost after step   110:  0.5543738\n",
            "Cost after step   115:  0.5152521\n",
            "Cost after step   120:  0.4746739\n",
            "Cost after step   125:  0.4326998\n",
            "Cost after step   130:  0.3894161\n",
            "Cost after step   135:  0.3449364\n",
            "Cost after step   140:  0.2994028\n",
            "Cost after step   145:  0.2529888\n",
            "Cost after step   150:  0.2059048\n",
            "Cost after step   155:  0.1584125\n",
            "Cost after step   160:  0.1108681\n",
            "Cost after step   165:  0.0638807\n",
            "Cost after step   170:  0.0193508\n",
            "Cost after step   175:  0.0019763\n",
            "Cost after step   180:  0.0076854\n",
            "Cost after step   185:  0.0023153\n",
            "Cost after step   190:  0.0076721\n",
            "Cost after step   195:  0.0023278\n",
            "Cost after step   200:  0.0076597\n",
            "2\n",
            "[1.595927, 2.167799, 2.27022, 5.367235, 2.545887, 4.870445, 0.559466, 5.455724, 0.459979, 5.585014, 6.142639, 4.281684, 0.491094, 1.033776, 1.775093, 2.137318]\n",
            "Cost after step     5:  0.7739169\n",
            "Cost after step    10:  0.7260024\n",
            "Cost after step    15:  0.6780263\n",
            "Cost after step    20:  0.6301419\n",
            "Cost after step    25:  0.5825041\n",
            "Cost after step    30:  0.5352673\n",
            "Cost after step    35:  0.4885834\n",
            "Cost after step    40:  0.4425999\n",
            "Cost after step    45:  0.3974589\n",
            "Cost after step    50:  0.3532957\n",
            "Cost after step    55:  0.3102385\n",
            "Cost after step    60:  0.2684090\n",
            "Cost after step    65:  0.2279232\n",
            "Cost after step    70:  0.1888920\n",
            "Cost after step    75:  0.1514227\n",
            "Cost after step    80:  0.1156168\n",
            "Cost after step    85:  0.0815658\n",
            "Cost after step    90:  0.0493398\n",
            "Cost after step    95:  0.0189939\n",
            "Cost after step   100:  0.0027244\n",
            "Cost after step   105:  0.0051322\n",
            "Cost after step   110:  0.0047169\n",
            "Cost after step   115:  0.0052967\n",
            "Cost after step   120:  0.0045515\n",
            "Cost after step   125:  0.0054607\n",
            "Cost after step   130:  0.0043861\n",
            "Cost after step   135:  0.0056247\n",
            "Cost after step   140:  0.0042207\n",
            "Cost after step   145:  0.0057888\n",
            "Cost after step   150:  0.0040553\n",
            "Cost after step   155:  0.0059528\n",
            "Cost after step   160:  0.0038898\n",
            "Cost after step   165:  0.0061169\n",
            "Cost after step   170:  0.0037244\n",
            "Cost after step   175:  0.0062810\n",
            "Cost after step   180:  0.0035589\n",
            "Cost after step   185:  0.0064452\n",
            "Cost after step   190:  0.0033934\n",
            "Cost after step   195:  0.0066093\n",
            "Cost after step   200:  0.0032278\n",
            "3\n",
            "[3.799578, 4.545822, 0.49115, 2.157389, 2.50641, 4.46944, 3.13291, 1.843593, 2.326766, 4.854568, 1.922095, 3.349474, 1.97175, 0.53362, 5.309941, 2.157511, 2.83551, 2.0051, 6.109153, 6.193121, 0.609877, 5.974149, 4.244124, 1.026325]\n",
            "Cost after step     5:  0.7038904\n",
            "Cost after step    10:  0.6706434\n",
            "Cost after step    15:  0.6375767\n",
            "Cost after step    20:  0.6048094\n",
            "Cost after step    25:  0.5724818\n",
            "Cost after step    30:  0.5407546\n",
            "Cost after step    35:  0.5098069\n",
            "Cost after step    40:  0.4798335\n",
            "Cost after step    45:  0.4510390\n",
            "Cost after step    50:  0.4236297\n",
            "Cost after step    55:  0.3978021\n",
            "Cost after step    60:  0.3737291\n",
            "Cost after step    65:  0.3515436\n",
            "Cost after step    70:  0.3313226\n",
            "Cost after step    75:  0.3130756\n",
            "Cost after step    80:  0.2967394\n",
            "Cost after step    85:  0.2821833\n",
            "Cost after step    90:  0.2692226\n",
            "Cost after step    95:  0.2576391\n",
            "Cost after step   100:  0.2472029\n",
            "Cost after step   105:  0.2376917\n",
            "Cost after step   110:  0.2289039\n",
            "Cost after step   115:  0.2206665\n",
            "Cost after step   120:  0.2128371\n",
            "Cost after step   125:  0.2053022\n",
            "Cost after step   130:  0.1979733\n",
            "Cost after step   135:  0.1907831\n",
            "Cost after step   140:  0.1836805\n",
            "Cost after step   145:  0.1766266\n",
            "Cost after step   150:  0.1695917\n",
            "Cost after step   155:  0.1625525\n",
            "Cost after step   160:  0.1554901\n",
            "Cost after step   165:  0.1483887\n",
            "Cost after step   170:  0.1412340\n",
            "Cost after step   175:  0.1340131\n",
            "Cost after step   180:  0.1267136\n",
            "Cost after step   185:  0.1193234\n",
            "Cost after step   190:  0.1118305\n",
            "Cost after step   195:  0.1042227\n",
            "Cost after step   200:  0.0964879\n",
            "4\n",
            "[2.433101, 2.797946, 3.806149, 1.608977, 5.137409, 1.3152, 5.154342, 2.865106, 2.690757, 5.205286, 4.927908, 4.61848, 6.137245, 2.508744, 4.143405, 4.620119, 1.674301, 5.62925, 0.050361, 3.174875, 5.297735, 1.909035, 5.188147, 2.409809, 4.684277, 4.524844, 4.055314, 3.978027, 4.309261, 2.694266, 6.046863, 2.25658]\n",
            "Cost after step     5:  1.1188671\n",
            "Cost after step    10:  1.0827455\n",
            "Cost after step    15:  1.0450737\n",
            "Cost after step    20:  1.0059002\n",
            "Cost after step    25:  0.9653258\n",
            "Cost after step    30:  0.9235095\n",
            "Cost after step    35:  0.8806712\n",
            "Cost after step    40:  0.8370911\n",
            "Cost after step    45:  0.7931033\n",
            "Cost after step    50:  0.7490847\n",
            "Cost after step    55:  0.7054387\n",
            "Cost after step    60:  0.6625746\n",
            "Cost after step    65:  0.6208857\n",
            "Cost after step    70:  0.5807272\n",
            "Cost after step    75:  0.5423984\n",
            "Cost after step    80:  0.5061292\n",
            "Cost after step    85:  0.4720739\n",
            "Cost after step    90:  0.4403117\n",
            "Cost after step    95:  0.4108521\n",
            "Cost after step   100:  0.3836439\n",
            "Cost after step   105:  0.3585866\n",
            "Cost after step   110:  0.3355404\n",
            "Cost after step   115:  0.3143380\n",
            "Cost after step   120:  0.2947941\n",
            "Cost after step   125:  0.2767153\n",
            "Cost after step   130:  0.2599099\n",
            "Cost after step   135:  0.2441961\n",
            "Cost after step   140:  0.2294088\n",
            "Cost after step   145:  0.2154050\n",
            "Cost after step   150:  0.2020655\n",
            "Cost after step   155:  0.1892955\n",
            "Cost after step   160:  0.1770226\n",
            "Cost after step   165:  0.1651941\n",
            "Cost after step   170:  0.1537727\n",
            "Cost after step   175:  0.1427332\n",
            "Cost after step   180:  0.1320586\n",
            "Cost after step   185:  0.1217367\n",
            "Cost after step   190:  0.1117575\n",
            "Cost after step   195:  0.1021109\n",
            "Cost after step   200:  0.0927850\n",
            "5\n",
            "[4.411265, 3.149258, 2.29884, 4.018567, 4.875563, 4.975464, 3.285027, 1.405984, 0.709118, 1.956137, 2.750973, 2.944531, 0.798076, 1.519089, 5.437858, 2.353927, 1.286532, 4.232695, 1.853002, 5.386366, 4.399677, 3.04408, 1.367832, 2.512182, 4.167118, 1.666082, 4.270958, 5.045575, 5.854237, 4.283936, 2.25646, 3.319751, 4.25248, 2.552937, 0.269153, 5.05073, 2.707248, 2.963436, 2.473933, 3.508319]\n",
            "Cost after step     5:  1.1460898\n",
            "Cost after step    10:  1.0993479\n",
            "Cost after step    15:  1.0518318\n",
            "Cost after step    20:  1.0038026\n",
            "Cost after step    25:  0.9555008\n",
            "Cost after step    30:  0.9071326\n",
            "Cost after step    35:  0.8588632\n",
            "Cost after step    40:  0.8108165\n",
            "Cost after step    45:  0.7630826\n",
            "Cost after step    50:  0.7157295\n",
            "Cost after step    55:  0.6688190\n",
            "Cost after step    60:  0.6224228\n",
            "Cost after step    65:  0.5766366\n",
            "Cost after step    70:  0.5315914\n",
            "Cost after step    75:  0.4874591\n",
            "Cost after step    80:  0.4444537\n",
            "Cost after step    85:  0.4028257\n",
            "Cost after step    90:  0.3628508\n",
            "Cost after step    95:  0.3248125\n",
            "Cost after step   100:  0.2889791\n",
            "Cost after step   105:  0.2555756\n",
            "Cost after step   110:  0.2247558\n",
            "Cost after step   115:  0.1965772\n",
            "Cost after step   120:  0.1709889\n",
            "Cost after step   125:  0.1478354\n",
            "Cost after step   130:  0.1268800\n",
            "Cost after step   135:  0.1078383\n",
            "Cost after step   140:  0.0904118\n",
            "Cost after step   145:  0.0743120\n",
            "Cost after step   150:  0.0592715\n",
            "Cost after step   155:  0.0450470\n",
            "Cost after step   160:  0.0314214\n",
            "Cost after step   165:  0.0182082\n",
            "Cost after step   170:  0.0052617\n",
            "Cost after step   175:  0.0033564\n",
            "Cost after step   180:  0.0025501\n",
            "Cost after step   185:  0.0100094\n",
            "Cost after step   190:  0.0025776\n",
            "Cost after step   195:  0.0100766\n",
            "Cost after step   200:  0.0025023\n",
            "6\n",
            "[5.225612, 6.136145, 4.72019, 4.557179, 0.128134, 0.787882, 0.868731, 1.567591, 5.684764, 1.37373, 4.105979, 4.540641, 0.235439, 6.171422, 0.131089, 5.271565, 3.729198, 5.338072, 5.761427, 0.461289, 4.014046, 5.809272, 1.962196, 1.268932, 1.922074, 2.486877, 0.420694, 4.573547, 3.18589, 5.931607, 5.72402, 0.454029, 0.854424, 4.489564, 3.596108, 4.538532, 2.041609, 3.678409, 1.192771, 1.215752, 3.588816, 5.341835, 4.426609, 1.63638, 4.523267, 1.810247, 1.479422, 5.616882]\n",
            "Cost after step     5:  0.6154972\n",
            "Cost after step    10:  0.5543048\n",
            "Cost after step    15:  0.4973155\n",
            "Cost after step    20:  0.4444651\n",
            "Cost after step    25:  0.3955775\n",
            "Cost after step    30:  0.3503947\n",
            "Cost after step    35:  0.3086072\n",
            "Cost after step    40:  0.2698807\n",
            "Cost after step    45:  0.2338787\n",
            "Cost after step    50:  0.2002795\n",
            "Cost after step    55:  0.1687869\n",
            "Cost after step    60:  0.1391372\n",
            "Cost after step    65:  0.1111019\n",
            "Cost after step    70:  0.0844914\n",
            "Cost after step    75:  0.0591579\n",
            "Cost after step    80:  0.0350020\n",
            "Cost after step    85:  0.0119789\n",
            "Cost after step    90:  0.0013599\n",
            "Cost after step    95:  0.0088341\n",
            "Cost after step   100:  0.0069880\n",
            "Cost after step   105:  0.0099838\n",
            "Cost after step   110:  0.0068492\n",
            "Cost after step   115:  0.0101869\n",
            "Cost after step   120:  0.0066288\n",
            "Cost after step   125:  0.0103889\n",
            "Cost after step   130:  0.0064142\n",
            "Cost after step   135:  0.0105849\n",
            "Cost after step   140:  0.0062058\n",
            "Cost after step   145:  0.0107750\n",
            "Cost after step   150:  0.0060035\n",
            "Cost after step   155:  0.0109595\n",
            "Cost after step   160:  0.0058071\n",
            "Cost after step   165:  0.0111384\n",
            "Cost after step   170:  0.0056164\n",
            "Cost after step   175:  0.0113118\n",
            "Cost after step   180:  0.0054313\n",
            "Cost after step   185:  0.0114800\n",
            "Cost after step   190:  0.0052516\n",
            "Cost after step   195:  0.0116431\n",
            "Cost after step   200:  0.0050772\n",
            "7\n",
            "[5.053916, 5.984878, 5.060178, 6.210201, 2.332944, 5.120136, 1.487535, 0.734312, 0.004967, 0.600791, 2.15919, 4.709652, 6.131615, 5.85165, 2.568997, 5.433748, 0.806418, 4.746484, 3.816486, 2.339679, 5.403988, 0.000413, 4.227972, 3.532523, 1.438045, 5.231334, 0.625607, 4.875535, 2.201332, 5.26898, 4.010989, 0.797401, 1.221722, 6.265455, 4.157064, 1.25759, 0.777311, 4.722293, 1.777984, 4.640058, 0.458516, 5.535603, 1.793323, 5.867066, 4.305291, 3.735918, 3.099458, 0.202425, 2.521967, 2.183518, 4.810642, 2.088498, 2.218816, 1.793849, 1.114153, 4.674558]\n",
            "Cost after step     5:  0.8511469\n",
            "Cost after step    10:  0.7834788\n",
            "Cost after step    15:  0.7169429\n",
            "Cost after step    20:  0.6521735\n",
            "Cost after step    25:  0.5897480\n",
            "Cost after step    30:  0.5301963\n",
            "Cost after step    35:  0.4740007\n",
            "Cost after step    40:  0.4215737\n",
            "Cost after step    45:  0.3732091\n",
            "Cost after step    50:  0.3290232\n",
            "Cost after step    55:  0.2889181\n",
            "Cost after step    60:  0.2525972\n",
            "Cost after step    65:  0.2196339\n",
            "Cost after step    70:  0.1895618\n",
            "Cost after step    75:  0.1619467\n",
            "Cost after step    80:  0.1364204\n",
            "Cost after step    85:  0.1126831\n",
            "Cost after step    90:  0.0904914\n",
            "Cost after step    95:  0.0696457\n",
            "Cost after step   100:  0.0499830\n",
            "Cost after step   105:  0.0313738\n",
            "Cost after step   110:  0.0137232\n",
            "Cost after step   115:  0.0031047\n",
            "Cost after step   120:  0.0059638\n",
            "Cost after step   125:  0.0177520\n",
            "Cost after step   130:  0.0067391\n",
            "Cost after step   135:  0.0169247\n",
            "Cost after step   140:  0.0075064\n",
            "Cost after step   145:  0.0161015\n",
            "Cost after step   150:  0.0082700\n",
            "Cost after step   155:  0.0152822\n",
            "Cost after step   160:  0.0090299\n",
            "Cost after step   165:  0.0144669\n",
            "Cost after step   170:  0.0097861\n",
            "Cost after step   175:  0.0136555\n",
            "Cost after step   180:  0.0105386\n",
            "Cost after step   185:  0.0128481\n",
            "Cost after step   190:  0.0112874\n",
            "Cost after step   195:  0.0120447\n",
            "Cost after step   200:  0.0120324\n",
            "8\n",
            "[3.965556, 1.11568, 4.366263, 3.428712, 2.673275, 4.016947, 1.190378, 4.853471, 2.308981, 5.779482, 0.20341, 2.264506, 0.427734, 5.911221, 0.26414, 1.86719, 1.879046, 0.528838, 4.664402, 2.034041, 1.210982, 4.352653, 4.38707, 4.591302, 4.260776, 6.088195, 4.380598, 3.983363, 3.661944, 2.527071, 3.972032, 3.214785, 2.27424, 4.096986, 3.196731, 1.316863, 5.13628, 1.430232, 0.014798, 5.135339, 2.936583, 4.321118, 2.562521, 1.636694, 5.901017, 5.499531, 2.148877, 0.975642, 3.27924, 2.342754, 0.93015, 2.552731, 6.10379, 4.513483, 4.380559, 4.818311, 0.746394, 2.572712, 0.767502, 4.367921, 3.036235, 1.125304, 2.809819, 3.822079]\n",
            "Cost after step     5:  0.9184008\n",
            "Cost after step    10:  0.8496520\n",
            "Cost after step    15:  0.7799405\n",
            "Cost after step    20:  0.7103413\n",
            "Cost after step    25:  0.6422451\n",
            "Cost after step    30:  0.5773082\n",
            "Cost after step    35:  0.5172626\n",
            "Cost after step    40:  0.4635588\n",
            "Cost after step    45:  0.4169323\n",
            "Cost after step    50:  0.3771400\n",
            "Cost after step    55:  0.3430853\n",
            "Cost after step    60:  0.3132694\n",
            "Cost after step    65:  0.2862603\n",
            "Cost after step    70:  0.2609492\n",
            "Cost after step    75:  0.2365884\n",
            "Cost after step    80:  0.2127211\n",
            "Cost after step    85:  0.1890912\n",
            "Cost after step    90:  0.1655728\n",
            "Cost after step    95:  0.1421246\n",
            "Cost after step   100:  0.1187631\n",
            "Cost after step   105:  0.0955506\n",
            "Cost after step   110:  0.0725928\n",
            "Cost after step   115:  0.0500495\n",
            "Cost after step   120:  0.0281637\n",
            "Cost after step   125:  0.0073075\n",
            "Cost after step   130:  0.0060000\n",
            "Cost after step   135:  0.0092236\n",
            "Cost after step   140:  0.0125262\n",
            "Cost after step   145:  0.0099475\n",
            "Cost after step   150:  0.0117522\n",
            "Cost after step   155:  0.0106688\n",
            "Cost after step   160:  0.0109805\n",
            "Cost after step   165:  0.0113876\n",
            "Cost after step   170:  0.0102115\n",
            "Cost after step   175:  0.0121040\n",
            "Cost after step   180:  0.0094451\n",
            "Cost after step   185:  0.0128178\n",
            "Cost after step   190:  0.0086814\n",
            "Cost after step   195:  0.0135291\n",
            "Cost after step   200:  0.0079205\n",
            "9\n",
            "[1.015993, 1.396601, 3.18201, 5.747447, 5.996336, 0.559812, 5.361556, 5.330741, 5.45166, 3.975374, 1.282239, 5.738, 4.177876, 0.885375, 5.905125, 1.779294, 0.012073, 0.618141, 1.548306, 3.113231, 0.570242, 0.614355, 0.204586, 5.034595, 3.663335, 1.186623, 1.426816, 2.810817, 0.075346, 3.928016, 0.756711, 6.124768, 1.582345, 2.744881, 5.600471, 5.172503, 1.108307, 4.537356, 3.725889, 1.719208, 2.674227, 0.074456, 0.150263, 2.637502, 1.19101, 4.195749, 4.195163, 2.826953, 5.881377, 4.366008, 1.254377, 2.833417, 1.783618, 5.127727, 2.001719, 1.72297, 3.541974, 5.038784, 0.548485, 1.034951, 3.446862, 1.505667, 4.202996, 5.530547, 4.615066, 2.200427, 3.856354, 1.152907, 4.704171, 1.163977, 4.968545, 4.127463]\n",
            "Cost after step     5:  0.5805773\n",
            "Cost after step    10:  0.4118821\n",
            "Cost after step    15:  0.2619262\n",
            "Cost after step    20:  0.1363754\n",
            "Cost after step    25:  0.0464787\n",
            "Cost after step    30:  0.0093727\n",
            "Cost after step    35:  0.0144044\n",
            "Cost after step    40:  0.0064410\n",
            "Cost after step    45:  0.0149000\n",
            "Cost after step    50:  0.0061045\n",
            "Cost after step    55:  0.0152037\n",
            "Cost after step    60:  0.0058024\n",
            "Cost after step    65:  0.0154650\n",
            "Cost after step    70:  0.0055236\n",
            "Cost after step    75:  0.0157087\n",
            "Cost after step    80:  0.0052592\n",
            "Cost after step    85:  0.0159402\n",
            "Cost after step    90:  0.0050070\n",
            "Cost after step    95:  0.0161606\n",
            "Cost after step   100:  0.0047668\n",
            "Cost after step   105:  0.0163698\n",
            "Cost after step   110:  0.0045387\n",
            "Cost after step   115:  0.0165674\n",
            "Cost after step   120:  0.0043234\n",
            "Cost after step   125:  0.0167527\n",
            "Cost after step   130:  0.0041212\n",
            "Cost after step   135:  0.0169253\n",
            "Cost after step   140:  0.0039327\n",
            "Cost after step   145:  0.0170847\n",
            "Cost after step   150:  0.0037584\n",
            "Cost after step   155:  0.0172305\n",
            "Cost after step   160:  0.0035985\n",
            "Cost after step   165:  0.0173621\n",
            "Cost after step   170:  0.0034536\n",
            "Cost after step   175:  0.0174793\n",
            "Cost after step   180:  0.0033236\n",
            "Cost after step   185:  0.0175819\n",
            "Cost after step   190:  0.0032088\n",
            "Cost after step   195:  0.0176699\n",
            "Cost after step   200:  0.0031089\n",
            "[0.007659727824281957, 0.003227821816279134, 0.0964878502378592, 0.092784952384854, 0.002502332663643487, 0.005077240795832167, 0.012032399530227719, 0.007920461079072665, 0.0031089264443437702]\n"
          ],
          "name": "stdout"
        }
      ]
    },
    {
      "cell_type": "code",
      "metadata": {
        "id": "T2ZaaZ7bTWPi",
        "colab_type": "code",
        "colab": {
          "base_uri": "https://localhost:8080/",
          "height": 395
        },
        "outputId": "f648819c-f9f1-43c2-e1a2-61aae4d2c742"
      },
      "source": [
        "plt.title(\"Gradient Descent Optimization (Minimum Distance vs. Layers)\")\n",
        "plt.xlabel(\"Layers\")\n",
        "plt.ylabel(\"Minimum Distance\")\n",
        "plt.xticks(np.arange(10))\n",
        "plt.plot([i for i in range(1,len(main_l)+1)],main_l)"
      ],
      "execution_count": 48,
      "outputs": [
        {
          "output_type": "execute_result",
          "data": {
            "text/plain": [
              "[<matplotlib.lines.Line2D at 0x7efc83fee630>]"
            ]
          },
          "metadata": {
            "tags": []
          },
          "execution_count": 48
        },
        {
          "output_type": "display_data",
          "data": {
            "image/png": "[encoded data removed]",
            "text/plain": [
              "<Figure size 576x396 with 1 Axes>"
            ]
          },
          "metadata": {
            "tags": []
          }
        }
      ]
    }
  ]
}